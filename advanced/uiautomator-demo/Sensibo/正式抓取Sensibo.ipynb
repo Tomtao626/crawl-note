{
 "cells": [
  {
   "cell_type": "code",
   "execution_count": 379,
   "metadata": {},
   "outputs": [],
   "source": [
    "import uiautomator2 as ui2\n",
    "import os\n",
    "import pandas as pd\n",
    "import time\n",
    "import unittest\n",
    "import json\n",
    "import re\n",
    "import csv"
   ]
  },
  {
   "cell_type": "markdown",
   "metadata": {},
   "source": [
    "# 主要函数"
   ]
  },
  {
   "cell_type": "code",
   "execution_count": 380,
   "metadata": {},
   "outputs": [],
   "source": [
    "# 获取红外分析仪的红码\n",
    "def level2redcode(code_list, frequency=38000, state=305):\n",
    "    listValue = []\n",
    "    listValue1 = []\n",
    "    if isinstance(code_list, str):\n",
    "        code_list = eval(code_list)\n",
    "#     list1 = code_list[2:]  # 去掉频率和长度\n",
    "    list1 = code_list  # 去掉频率和长度\n",
    "    if not list1:\n",
    "        return 38000, []\n",
    "    for li in range(len(list1)):\n",
    "        n = round(int(list1[li]) / state)\n",
    "        if (n > 255):\n",
    "            listValue1.append(0)\n",
    "            listValue1.append(n >> 8 & 0xff)\n",
    "            listValue1.append(n & 0xff)\n",
    "        else:\n",
    "            listValue1.append(n)\n",
    "    q1 = round(int(frequency / 1000), 0)  # 要取小数将第一个int改为float，最后0改要求小数位\n",
    "    if (q1 > 255):\n",
    "        listValue.append(q1 >> 8 & 0xff)\n",
    "        listValue.append(q1 & 0xff)\n",
    "    else:\n",
    "        listValue.append(q1)\n",
    "        listValue.append(0)\n",
    "    if (len(listValue1) > 255):\n",
    "        listValue.append(len(listValue1) & 0xff)\n",
    "        listValue.append(len(listValue1) >> 8 & 0xff)\n",
    "    else:\n",
    "        listValue.append(len(listValue1))\n",
    "        listValue.append(0)\n",
    "    listValue = listValue + listValue1\n",
    "    return listValue\n",
    "\n",
    "def get_redcode():\n",
    "    fr = open(\"C:/Users/dell/Desktop/IRReader/IRReader2015/demo20190619-1/IRDemo/bin/Debug/err_code.txt\", \"r\")\n",
    "    levelcode = fr.read().split(\"\\n\")[-2]\n",
    "    fr.close()\n",
    "    redcode = level2redcode([int(i) for i in levelcode.split(\" \")])\n",
    "    return redcode"
   ]
  },
  {
   "cell_type": "code",
   "execution_count": 159,
   "metadata": {},
   "outputs": [],
   "source": [
    "# 获取品牌列表\n",
    "df = pd.read_excel(\"./Sensibo空调品牌.xlsx\")"
   ]
  },
  {
   "cell_type": "code",
   "execution_count": 5,
   "metadata": {},
   "outputs": [],
   "source": [
    "# 重启软件\n",
    "def startApp():\n",
    "    serial = '1333e1d50606'\n",
    "    d = ui2.connect_usb(serial)\n",
    "    # 关闭APP\n",
    "    d.app_stop(\"com.sensibo.app\")\n",
    "    # 启动App\n",
    "    d.app_start(\"com.sensibo.app\")\n",
    "    time.sleep(8)\n",
    "    # 点击进入到面板\n",
    "    d.click(0.53, 0.246)\n",
    "    return d"
   ]
  },
  {
   "cell_type": "code",
   "execution_count": 6,
   "metadata": {},
   "outputs": [],
   "source": [
    "d = startApp()"
   ]
  },
  {
   "cell_type": "code",
   "execution_count": 381,
   "metadata": {},
   "outputs": [],
   "source": [
    "def selectBrand(brand):\n",
    "    d(text=\"Tab 4 of 4\").click()\n",
    "    time.sleep(2)\n",
    "    d.click(0.455, 0.847)\n",
    "    \n",
    "    i = 0\n",
    "    while not d(text=\"Next\").exists:\n",
    "        time.sleep(1)\n",
    "        i += 1\n",
    "        if i > 60:\n",
    "            break\n",
    "    d(text=\"Next\").click()\n",
    "    \n",
    "    i = 0\n",
    "    while not d(text=\"Set remote manually\").exists:\n",
    "        time.sleep(1)\n",
    "        i += 1\n",
    "        if i > 60:\n",
    "            break\n",
    "    \n",
    "    d(text=\"Set remote manually\").click()\n",
    "    \n",
    "    i = 0\n",
    "    while not d(text=\"Send a test On/Off command\").exists:\n",
    "        time.sleep(1)\n",
    "        i += 1\n",
    "        if i > 60:\n",
    "            break\n",
    "            \n",
    "    d.click(0.107, 0.396)\n",
    "    time.sleep(1)\n",
    "    # 点开品牌列表\n",
    "    d.click(0.697, 0.468)\n",
    "    time.sleep(1)\n",
    "    while not d(text=brand).exists:\n",
    "        d.swipe(0.5, 0.145, 0.5, 0.084)\n",
    "\n",
    "    # 选择品牌\n",
    "    d(text=brand).click()"
   ]
  },
  {
   "cell_type": "code",
   "execution_count": 339,
   "metadata": {},
   "outputs": [],
   "source": [
    "selectBrand(\"Omega\")"
   ]
  },
  {
   "cell_type": "code",
   "execution_count": 357,
   "metadata": {},
   "outputs": [
    {
     "data": {
      "text/plain": [
       "True"
      ]
     },
     "execution_count": 357,
     "metadata": {},
     "output_type": "execute_result"
    }
   ],
   "source": [
    "d(text=\"Air-Con\").exists"
   ]
  },
  {
   "cell_type": "code",
   "execution_count": 382,
   "metadata": {},
   "outputs": [],
   "source": [
    "def getBrandModelList():\n",
    "    # 获取该品牌红码型号\n",
    "    d.click(0.539, 0.533)\n",
    "    model_list = []\n",
    "    st = None\n",
    "    while True:\n",
    "        for i in d.xpath('//android.view.View').all():\n",
    "            if i.text == \"\" or i.text in model_list:\n",
    "                continue\n",
    "            else:\n",
    "                model_list.append(i.text)\n",
    "        if st == len(model_list):\n",
    "            break\n",
    "        st = len(model_list)\n",
    "        d.swipe(0.5, 0.15, 0.5, 0.084)\n",
    "    # 退回界面\n",
    "    d.click(0.141, 0.624)\n",
    "    return model_list"
   ]
  },
  {
   "cell_type": "code",
   "execution_count": 80,
   "metadata": {},
   "outputs": [],
   "source": [
    "model_list = getBrandModelList()"
   ]
  },
  {
   "cell_type": "code",
   "execution_count": 81,
   "metadata": {},
   "outputs": [
    {
     "data": {
      "text/plain": [
       "['Lively Walrus']"
      ]
     },
     "execution_count": 81,
     "metadata": {},
     "output_type": "execute_result"
    }
   ],
   "source": [
    "model_list"
   ]
  },
  {
   "cell_type": "code",
   "execution_count": 383,
   "metadata": {},
   "outputs": [],
   "source": [
    "def getBrandRedcode(brand, model):\n",
    "    # 选择红码面板\n",
    "    if not d(text=\"Send a test On/Off command\").exists:\n",
    "        selectBrand(brand)\n",
    "    d.click(0.539, 0.533)\n",
    "    time.sleep(1)\n",
    "    while not d(text=model).exists:\n",
    "        print(1)\n",
    "        d.swipe(0.5, 0.15, 0.5, 0.084)\n",
    "    d(text=model).click()\n",
    "    time.sleep(1)\n",
    "    d(text=\"Done\").click()\n",
    "    \n",
    "    i = 0\n",
    "    while not d(text=\"Tab 1 of 4\").exists:\n",
    "        time.sleep(1)\n",
    "        i += 1\n",
    "        if i > 60:\n",
    "            break\n",
    "            \n",
    "    d(text=\"Tab 1 of 4\").click()\n",
    "    return True"
   ]
  },
  {
   "cell_type": "code",
   "execution_count": 83,
   "metadata": {},
   "outputs": [
    {
     "data": {
      "text/plain": [
       "True"
      ]
     },
     "execution_count": 83,
     "metadata": {},
     "output_type": "execute_result"
    }
   ],
   "source": [
    "getBrandRedcode(\"Aux\", \"Lively Walrus\")"
   ]
  },
  {
   "cell_type": "code",
   "execution_count": 384,
   "metadata": {},
   "outputs": [],
   "source": [
    "temp_map = {\n",
    "    61: 16,\n",
    "    63: 17,\n",
    "    64: 18,\n",
    "    66: 19,\n",
    "    68: 20,\n",
    "    70: 21,\n",
    "    72: 22,\n",
    "    73: 23,\n",
    "    75: 24,\n",
    "    77: 25,\n",
    "    79: 26,\n",
    "    81: 27,\n",
    "    82: 28,\n",
    "    84: 29,\n",
    "    86: 30,\n",
    "    88: 31,\n",
    "    90: 32\n",
    "}"
   ]
  },
  {
   "cell_type": "code",
   "execution_count": 385,
   "metadata": {},
   "outputs": [
    {
     "data": {
      "text/plain": [
       "['Cool', 'high', 20]"
      ]
     },
     "execution_count": 385,
     "metadata": {},
     "output_type": "execute_result"
    }
   ],
   "source": [
    "# 获取当前面板状态\n",
    "def get_now_status():\n",
    "    status = d.xpath('//android.view.View').all()\n",
    "    index = 0\n",
    "    while True:\n",
    "        if status[index].text == \"Living room\":\n",
    "            index += 1\n",
    "            break\n",
    "        index += 1\n",
    "    now_status = status[index].text\n",
    "    if \".\" in now_status:\n",
    "        now_status = status[index-2].text\n",
    "    now_status = now_status.split(\" \")\n",
    "    if len(now_status) >= 3:\n",
    "        now_status[2] = int(now_status[2].replace(\"°\", \"\"))\n",
    "        if now_status[2] > 50:\n",
    "            if now_status[2] in temp_map:\n",
    "                now_status[2] = temp_map[now_status[2]]\n",
    "            elif now_status[2] < 61:\n",
    "                now_status[2] = 10\n",
    "            elif now_status[2] > 90:\n",
    "                now_status[2] = 33\n",
    "#     now_status[2] = round((now_status[2] - 32) * 5 / 9)\n",
    "    return now_status\n",
    "get_now_status()"
   ]
  },
  {
   "cell_type": "code",
   "execution_count": 386,
   "metadata": {},
   "outputs": [
    {
     "data": {
      "text/plain": [
       "20"
      ]
     },
     "execution_count": 386,
     "metadata": {},
     "output_type": "execute_result"
    }
   ],
   "source": [
    "# 获取中间温度, 只有中间温度与头状态温度一直,才发完红码\n",
    "def getMiddleTemperture():\n",
    "    i = 0\n",
    "    status = d.xpath('//android.view.View').all()\n",
    "    temp = 0\n",
    "    while i < len(status):\n",
    "        if status[i].text == \"°\":\n",
    "            if status[i-1].text != \"--\":\n",
    "                temp = int(status[i-1].text)\n",
    "            break\n",
    "        i+=1\n",
    "    if temp > 50:\n",
    "        if temp in temp_map:\n",
    "            temp = temp_map[temp]\n",
    "        elif temp < 61:\n",
    "            temp = 10\n",
    "        elif temp > 90:\n",
    "            temp = 33\n",
    "#     temp = round((temp - 32) * 5 / 9)\n",
    "    return temp\n",
    "getMiddleTemperture()"
   ]
  },
  {
   "cell_type": "code",
   "execution_count": 387,
   "metadata": {},
   "outputs": [],
   "source": [
    "def getRedcode():\n",
    "    # 获取当前面板红码\n",
    "    rel_data = []\n",
    "    # 获取关机状态\n",
    "    if not d(text=\"TURN OFF\").exists:\n",
    "        d(text=\"TURN ON\").click()\n",
    "    if os.path.exists(\"C:/Users/dell/Desktop/IRReader/IRReader2015/demo20190619-1/IRDemo/bin/Debug/err_code.txt\"):\n",
    "        os.remove(\"C:/Users/dell/Desktop/IRReader/IRReader2015/demo20190619-1/IRDemo/bin/Debug/err_code.txt\")\n",
    "    \n",
    "    i = 0\n",
    "    while not d(text=\"TURN OFF\").exists():\n",
    "        time.sleep(1)\n",
    "        i += 1\n",
    "        if i > 60:\n",
    "            break\n",
    "\n",
    "    d(text=\"TURN OFF\").click()\n",
    "    i = 0\n",
    "    while not d(text=\"TURN ON\").exists:\n",
    "        time.sleep(1)\n",
    "        i += 1\n",
    "        if i > 60:\n",
    "            break\n",
    "            \n",
    "    redcode=str(get_redcode()) \n",
    "    #  status,mode,speed,up_down_direct,temperature,redcode\n",
    "    rel_data.append(['close','cool','auto','auto', 27, redcode])\n",
    "    # 返回开机状态\n",
    "    d(text=\"TURN ON\").click()\n",
    "\n",
    "    i = 0\n",
    "    while not d(text=\"TURN OFF\").exists:\n",
    "        time.sleep(1)\n",
    "        i += 1\n",
    "        if i > 60:\n",
    "            break\n",
    "    \n",
    "#     speed_list = {'Quiet': \"speed1\", 'Low': \"speed2\", 'Medium':\"speed3\", 'High':\"speed4\", 'Auto': \"auto\", 'Strong': \"speed5\"}\n",
    "#     direct_list = {\"Stopped (auto)\":\"close\", \n",
    "#                    \"Moving\": \"auto\", \n",
    "#                    \"Fixed top\": \"fix1\", \n",
    "#                    \"Fixed middle top\": \"fix2\", \n",
    "#                    \"Fixed middle\": \"fix3\", \n",
    "#                    \"Fixed middle bottom\": \"fix4\", \n",
    "#                    \"Fixed bottom\": \"fix5\"}\n",
    "    speed_list = {'Low': \"low\", 'Medium':\"middle\", 'High':\"high\", 'Auto': \"auto\"}\n",
    "    direct_list = {\"Stopped (auto)\":\"fix\",  \"Moving\": \"auto\"}\n",
    "    \n",
    "#     mode_list = {'Cool': \"cool\", 'Heat': \"heat\", 'Fan': \"wind\", 'Dry': \"humidity\", 'Auto': \"auto\"}\n",
    "    mode_list = {'Cool': \"cool\", 'Heat': \"heat\"}\n",
    "    for mode in mode_list:\n",
    "        print(f\"mode: {mode}\")\n",
    "        d.click(0.182, 0.660)\n",
    "        time.sleep(2)\n",
    "        if d(text=mode).exists:\n",
    "            d(text=mode).click()\n",
    "            \n",
    "            status = get_now_status()\n",
    "            \n",
    "            i = 0\n",
    "            while status[0].lower() != mode.lower():\n",
    "                time.sleep(1)\n",
    "                status = get_now_status()\n",
    "                i += 1\n",
    "                if i > 60:\n",
    "                    break\n",
    "\n",
    "            status_temp = True\n",
    "            status_wind = True\n",
    "            if len(status) < 3:\n",
    "                status_temp = False\n",
    "                print(\"该模式 {} 控制不了温度\".format(mode))\n",
    "            if len(status) < 2:\n",
    "                status_temp = False\n",
    "                print(\"该模式 {} 控制不了风速\".format(mode))\n",
    "            # 判断风向\n",
    "            status_direct = True\n",
    "            # 先判断有没有风向\n",
    "            d.click(0.808, 0.660)\n",
    "            time.sleep(3)\n",
    "            if d(text=\"When temperature goes above\").exists:\n",
    "                print(\"该面板没有风向\")\n",
    "                status_direct = False\n",
    "            # 退回面板\n",
    "            d(resourceId=\"com.android.systemui:id/back\").click()\n",
    "            \n",
    "            if status_temp and status_wind and status_direct:\n",
    "                print('state: 1')\n",
    "                for speed in speed_list:\n",
    "                    d.click(0.508, 0.660)\n",
    "                    time.sleep(1)\n",
    "                    if d(text=speed).exists:\n",
    "                        d(text=speed).click()\n",
    "                        i = 0\n",
    "                        while get_now_status()[1].lower() != speed.lower():\n",
    "                            time.sleep(1)\n",
    "                            i += 1\n",
    "                            if i > 60:\n",
    "                                break\n",
    "                                \n",
    "                        for direct in direct_list:\n",
    "                            print(f\"mode: {mode}, speed: {speed}, direct: {direct}\")\n",
    "                            # 开始选择风向\n",
    "                            d.click(0.808, 0.660)\n",
    "                            time.sleep(1)\n",
    "                            if d(text=direct).exists:\n",
    "                                d(text=direct).click()\n",
    "                                # 获取温度红码\n",
    "                                \n",
    "                                i = 0\n",
    "                                while d(text=direct).exists:\n",
    "                                    print(f\"direct: {direct}\")\n",
    "                                    time.sleep(1)\n",
    "                                    i += 1\n",
    "                                    if i > 60:\n",
    "                                        break\n",
    "                                temp_dic = getTempDic()\n",
    "                                while len(temp_dic) < 12:\n",
    "                                    temp_dic = getTempDic(temp_dic)\n",
    "                                for temp in temp_dic:\n",
    "                                    rel_data.append(['open', mode_list[mode], speed_list[speed], direct_list[direct], temp, temp_dic[temp]])\n",
    "                            else:\n",
    "                                print(\"没有该风向, {}\".format(direct))\n",
    "                                # 退回面板\n",
    "                                d(resourceId=\"com.android.systemui:id/back\").click()\n",
    "                                time.sleep(1)\n",
    "                    else:\n",
    "                        print(\"没有该风速: {}\".format(speed))\n",
    "                        d(resourceId=\"com.android.systemui:id/back\").click()\n",
    "                        time.sleep(1)\n",
    "                        continue\n",
    "            elif status_temp and status_wind and not status_direct:\n",
    "                print('state: 2')\n",
    "                for speed in speed_list:\n",
    "                    d.click(0.508, 0.660)\n",
    "                    time.sleep(1)\n",
    "                    if d(text=speed).exists:\n",
    "                        print(f\"mode: {mode}, speed: {speed}\")\n",
    "                        d(text=speed).click()\n",
    "                        \n",
    "                        i = 0\n",
    "                        while get_now_status()[1].lower() != speed.lower():\n",
    "                            time.sleep(1)\n",
    "                            i += 1\n",
    "                            if i > 60:\n",
    "                                break\n",
    "                        # 获取温度红码\n",
    "                        temp_dic = getTempDic()\n",
    "                        while len(temp_dic) < 12:\n",
    "                            temp_dic = getTempDic(temp_dic)\n",
    "                        for temp in temp_dic:\n",
    "                            rel_data.append(['open', mode_list[mode], speed_list[speed], 'auto', temp, temp_dic[temp]])\n",
    "                    else:\n",
    "                        print(\"没有该风速: {}\".format(speed))\n",
    "                        d(resourceId=\"com.android.systemui:id/back\").click()\n",
    "                        time.sleep(1)\n",
    "                        continue\n",
    "            elif status_temp and not status_wind and status_direct:\n",
    "                print('state: 3')\n",
    "                for direct in direct_list:\n",
    "                    # 开始选择风向\n",
    "                    d.click(0.808, 0.660)\n",
    "                    time.sleep(1)\n",
    "                    if d(text=direct).exists:\n",
    "                        print(f\"mode: {mode}, direct: {direct}\")\n",
    "                        d(text=direct).click()\n",
    "                        \n",
    "                        i = 0\n",
    "                        while d(text=direct).exists:\n",
    "                            print(f\"direct: {direct}\")\n",
    "                            time.sleep(1)\n",
    "                            i += 1\n",
    "                            if i > 60:\n",
    "                                break\n",
    "                        # 获取温度红码\n",
    "                        temp_dic = getTempDic()\n",
    "                        while len(temp_dic) < 12:\n",
    "                            temp_dic = getTempDic(temp_dic)\n",
    "                        for temp in temp_dic:\n",
    "                            rel_data.append(['open', mode_list[mode], '0', direct_list[direct], temp, temp_dic[temp]])\n",
    "                    else:\n",
    "                        print(\"没有该风向, {}\".format(direct))\n",
    "                        # 退回面板\n",
    "                        d(resourceId=\"com.android.systemui:id/back\").click()\n",
    "                        time.sleep(1)\n",
    "            elif not status_temp and status_wind and status_direct:\n",
    "                print('state: 4')\n",
    "                for speed in speed_list:\n",
    "                    d.click(0.508, 0.660)\n",
    "                    time.sleep(1)\n",
    "                    if d(text=speed).exists:\n",
    "                        d(text=speed).click()\n",
    "                        \n",
    "                        i = 0\n",
    "                        while get_now_status()[1].lower() != speed.lower():\n",
    "                            time.sleep(1)\n",
    "                            i += 1\n",
    "                            if i > 60:\n",
    "                                break\n",
    "                                \n",
    "                        for direct in direct_list:\n",
    "                            print(f\"mode: {mode}, speed: {speed}, direct: {direct}\")\n",
    "                            # 开始选择风向\n",
    "                            d.click(0.808, 0.660)\n",
    "                            time.sleep(1)\n",
    "                            if d(text=direct).exists:\n",
    "                                d(text=direct).click()\n",
    "                                \n",
    "                                i = 0\n",
    "                                while d(text=direct).exists:\n",
    "                                    print(f\"direct: {direct}\")\n",
    "                                    time.sleep(1)\n",
    "                                    i += 1\n",
    "                                    if i > 60:\n",
    "                                        break\n",
    "                                # 控制不了温度的,通过开机键,获取红码\n",
    "                                d(text=\"TURN OFF\").click()\n",
    "                                \n",
    "                                i = 0\n",
    "                                while not d(text=\"TURN ON\").exists:\n",
    "                                    time.sleep(1)\n",
    "                                    i += 1\n",
    "                                    if i > 60:\n",
    "                                        break\n",
    "                                if os.path.exists(\"C:/Users/dell/Desktop/IRReader/IRReader2015/demo20190619-1/IRDemo/bin/Debug/err_code.txt\"):\n",
    "                                    os.remove(\"C:/Users/dell/Desktop/IRReader/IRReader2015/demo20190619-1/IRDemo/bin/Debug/err_code.txt\")\n",
    "                                d(text=\"TURN ON\").click()\n",
    "                                \n",
    "                                i = 0\n",
    "                                while not d(text=\"TURN OFF\").exists:\n",
    "                                    time.sleep(1)\n",
    "                                    i += 1\n",
    "                                    if i > 60:\n",
    "                                        break\n",
    "                                        \n",
    "                                redcode = str(get_redcode())\n",
    "                                rel_data.append(['open', mode_list[mode], speed_list[speed], direct_list[direct], 0, redcode])\n",
    "                            else:\n",
    "                                print(\"没有该风向, {}\".format(direct))\n",
    "                                # 退回面板\n",
    "                                d(resourceId=\"com.android.systemui:id/back\").click()\n",
    "                                time.sleep(1)\n",
    "                    else:\n",
    "                        print(\"没有该风速: {}\".format(speed))\n",
    "                        d(resourceId=\"com.android.systemui:id/back\").click()\n",
    "                        time.sleep(1)\n",
    "                        continue\n",
    "            elif status_temp and not status_wind and not status_direct:\n",
    "                print('state: 5')\n",
    "                # 获取温度红码\n",
    "                temp_dic = getTempDic()\n",
    "                while len(temp_dic) < 12:\n",
    "                    temp_dic = getTempDic(temp_dic)\n",
    "                for temp in temp_dic:\n",
    "                    rel_data.append(['open', mode_list[mode], '0', 'auto', temp, temp_dic[temp]])\n",
    "            elif not status_temp and status_wind and not status_direct:\n",
    "                print('state: 6')\n",
    "                for speed in speed_list:\n",
    "                    d.click(0.508, 0.660)\n",
    "                    time.sleep(1)\n",
    "                    if d(text=speed).exists:\n",
    "                        print(f\"mode: {mode}, speed: {speed}\")\n",
    "                        d(text=speed).click()\n",
    "                        \n",
    "                        i = 0\n",
    "                        while get_now_status()[1].lower() != speed.lower():\n",
    "                            time.sleep(1)\n",
    "                            i += 1\n",
    "                            if i > 60:\n",
    "                                break\n",
    "\n",
    "                        # 控制不了温度的,通过开机键,获取红码\n",
    "                        d(text=\"TURN OFF\").click()\n",
    "                        \n",
    "                        i = 0\n",
    "                        while not d(text=\"TURN ON\").exists:\n",
    "                            time.sleep(1)\n",
    "                            i += 1\n",
    "                            if i > 60:\n",
    "                                break\n",
    "                        if os.path.exists(\"C:/Users/dell/Desktop/IRReader/IRReader2015/demo20190619-1/IRDemo/bin/Debug/err_code.txt\"):\n",
    "                            os.remove(\"C:/Users/dell/Desktop/IRReader/IRReader2015/demo20190619-1/IRDemo/bin/Debug/err_code.txt\")\n",
    "                        d(text=\"TURN ON\").click()\n",
    "                        \n",
    "                        i = 0\n",
    "                        while not d(text=\"TURN OFF\").exists:\n",
    "                            time.sleep(1)\n",
    "                            i += 1\n",
    "                            if i > 60:\n",
    "                                break\n",
    "                        redcode = str(get_redcode())\n",
    "                        rel_data.append(['open', mode_list[mode], speed_list[speed], 'auto', 0, redcode])\n",
    "                    else:\n",
    "                        print(\"没有该风速: {}\".format(speed))\n",
    "                        d(resourceId=\"com.android.systemui:id/back\").click()\n",
    "                        time.sleep(1)\n",
    "                        continue\n",
    "        else:\n",
    "            print(\"没有该模式: {}\".format(mode))\n",
    "            d(resourceId=\"com.android.systemui:id/back\").click()\n",
    "            time.sleep(1)\n",
    "    df = pd.DataFrame(rel_data, columns=['state', 'mode', 'speed', 'direct', 'temperature', 'redcode'])\n",
    "    return df"
   ]
  },
  {
   "cell_type": "code",
   "execution_count": 388,
   "metadata": {},
   "outputs": [],
   "source": [
    "# 获取温度红码\n",
    "def getTempDic(temp_dic = {}):\n",
    "    # 开始温度遍历\n",
    "    min_temp = get_now_status()[2]\n",
    "    # 退到最低温度\n",
    "    while True:\n",
    "        d.click(0.119, 0.441)\n",
    "        middle_temp = getMiddleTemperture()\n",
    "        i = 0\n",
    "        while middle_temp != get_now_status()[2]:\n",
    "            time.sleep(1)\n",
    "            i += 1\n",
    "            if i > 60:\n",
    "                break\n",
    "            \n",
    "        if middle_temp == min_temp:\n",
    "            break\n",
    "        else:\n",
    "            min_temp = middle_temp\n",
    "            if min_temp < 16:\n",
    "                break\n",
    "    if min_temp >= 16:\n",
    "        # 加一度\n",
    "        d.click(0.88, 0.441)\n",
    "        print(min_temp)\n",
    "        i = 0\n",
    "        while get_now_status()[2] != min_temp +1:\n",
    "            time.sleep(1)\n",
    "            i += 1\n",
    "            if i > 60:\n",
    "                break\n",
    "                \n",
    "        if os.path.exists(\"C:/Users/dell/Desktop/IRReader/IRReader2015/demo20190619-1/IRDemo/bin/Debug/err_code.txt\"):\n",
    "            os.remove(\"C:/Users/dell/Desktop/IRReader/IRReader2015/demo20190619-1/IRDemo/bin/Debug/err_code.txt\")\n",
    "        # 减一度\n",
    "        d.click(0.119, 0.441)\n",
    "        \n",
    "        i = 0\n",
    "        while get_now_status()[2] != min_temp:\n",
    "            time.sleep(1)\n",
    "            i += 1\n",
    "            if i > 60:\n",
    "                break\n",
    "        redcode=str(get_redcode())\n",
    "        temp_dic[min_temp] = redcode\n",
    "\n",
    "    max_temp = None\n",
    "    while True:\n",
    "        if os.path.exists(\"C:/Users/dell/Desktop/IRReader/IRReader2015/demo20190619-1/IRDemo/bin/Debug/err_code.txt\"):\n",
    "            os.remove(\"C:/Users/dell/Desktop/IRReader/IRReader2015/demo20190619-1/IRDemo/bin/Debug/err_code.txt\")\n",
    "        d.click(0.88, 0.441)\n",
    "        now_temp = getMiddleTemperture()\n",
    "        if now_temp == max_temp:\n",
    "            break\n",
    "        max_temp = now_temp\n",
    "        \n",
    "        i = 0\n",
    "        while get_now_status()[2] != now_temp:\n",
    "            time.sleep(1)\n",
    "            i += 1\n",
    "            if i > 60:\n",
    "                break\n",
    "                \n",
    "        print(now_temp)\n",
    "        redcode=str(get_redcode())\n",
    "        temp_dic[now_temp] = redcode\n",
    "        if max_temp == 32:\n",
    "            break\n",
    "    if len(temp_dic) < 13:\n",
    "        temp_dic = getTempDic(temp_dic)\n",
    "    return temp_dic"
   ]
  },
  {
   "cell_type": "code",
   "execution_count": 187,
   "metadata": {},
   "outputs": [],
   "source": [
    "temp_dic = getTempDic()"
   ]
  },
  {
   "cell_type": "code",
   "execution_count": 188,
   "metadata": {},
   "outputs": [
    {
     "data": {
      "text/plain": [
       "{27: '[38, 0, 72, 0, 0, 1, 37, 141, 21, 14, 19, 15, 21, 14, 19, 15, 19, 15, 21, 50, 19, 15, 21, 14, 19, 52, 19, 51, 19, 51, 20, 51, 20, 51, 22, 14, 21, 50, 19, 51, 21, 50, 21, 14, 19, 15, 21, 14, 19, 51, 20, 15, 19, 15, 21, 14, 19, 15, 19, 51, 20, 51, 22, 49, 22, 14, 19, 51, 22, 49, 20, 51, 20, 0, 12, 203]'}"
      ]
     },
     "execution_count": 188,
     "metadata": {},
     "output_type": "execute_result"
    }
   ],
   "source": [
    "temp_dic"
   ]
  },
  {
   "cell_type": "code",
   "execution_count": null,
   "metadata": {},
   "outputs": [],
   "source": []
  },
  {
   "cell_type": "markdown",
   "metadata": {},
   "source": [
    "# main"
   ]
  },
  {
   "cell_type": "code",
   "execution_count": 372,
   "metadata": {},
   "outputs": [],
   "source": [
    "success = set()"
   ]
  },
  {
   "cell_type": "code",
   "execution_count": 398,
   "metadata": {},
   "outputs": [
    {
     "name": "stdout",
     "output_type": "stream",
     "text": [
      "Artel\n",
      "('Artel', 'Adorable Grouse')\n",
      "error\n",
      "[Errno 2] No such file or directory: 'C:/Users/dell/Desktop/IRReader/IRReader2015/demo20190619-1/IRDemo/bin/Debug/err_code.txt'\n",
      "**************************************************\n",
      "('Artel', 'Adorable Grouse')\n",
      "error\n",
      "-32002 Client error: <> data: Selector [text='Tab 4 of 4'], method: None\n",
      "**************************************************\n",
      "('Artel', 'Adorable Grouse')\n",
      "error\n",
      "-32002 Client error: <> data: Selector [text='Tab 4 of 4'], method: None\n",
      "**************************************************\n",
      "('Artel', 'Adorable Grouse')\n",
      "error\n",
      "-32002 Client error: <> data: Selector [text='Tab 4 of 4'], method: None\n",
      "**************************************************\n",
      "('Artel', 'Adorable Grouse')\n",
      "error\n",
      "-32002 Client error: <> data: Selector [text='Tab 4 of 4'], method: None\n"
     ]
    },
    {
     "ename": "KeyboardInterrupt",
     "evalue": "",
     "output_type": "error",
     "traceback": [
      "\u001b[1;31m---------------------------------------------------------------------------\u001b[0m",
      "\u001b[1;31mUiObjectNotFoundError\u001b[0m                     Traceback (most recent call last)",
      "\u001b[1;32m<ipython-input-398-76ddd1f84646>\u001b[0m in \u001b[0;36m<module>\u001b[1;34m\u001b[0m\n\u001b[0;32m     16\u001b[0m                 \u001b[0mprint\u001b[0m\u001b[1;33m(\u001b[0m\u001b[1;33m(\u001b[0m\u001b[0mbrand\u001b[0m\u001b[1;33m,\u001b[0m \u001b[0mmodel\u001b[0m\u001b[1;33m)\u001b[0m\u001b[1;33m)\u001b[0m\u001b[1;33m\u001b[0m\u001b[1;33m\u001b[0m\u001b[0m\n\u001b[1;32m---> 17\u001b[1;33m                 \u001b[0mgetBrandRedcode\u001b[0m\u001b[1;33m(\u001b[0m\u001b[0mbrand\u001b[0m\u001b[1;33m,\u001b[0m \u001b[0mmodel\u001b[0m\u001b[1;33m)\u001b[0m\u001b[1;33m\u001b[0m\u001b[1;33m\u001b[0m\u001b[0m\n\u001b[0m\u001b[0;32m     18\u001b[0m                 \u001b[0mdf_t\u001b[0m \u001b[1;33m=\u001b[0m \u001b[0mgetRedcode\u001b[0m\u001b[1;33m(\u001b[0m\u001b[1;33m)\u001b[0m\u001b[1;33m\u001b[0m\u001b[1;33m\u001b[0m\u001b[0m\n",
      "\u001b[1;32m<ipython-input-383-6f4e92d2ef7f>\u001b[0m in \u001b[0;36mgetBrandRedcode\u001b[1;34m(brand, model)\u001b[0m\n\u001b[0;32m      3\u001b[0m     \u001b[1;32mif\u001b[0m \u001b[1;32mnot\u001b[0m \u001b[0md\u001b[0m\u001b[1;33m(\u001b[0m\u001b[0mtext\u001b[0m\u001b[1;33m=\u001b[0m\u001b[1;34m\"Send a test On/Off command\"\u001b[0m\u001b[1;33m)\u001b[0m\u001b[1;33m.\u001b[0m\u001b[0mexists\u001b[0m\u001b[1;33m:\u001b[0m\u001b[1;33m\u001b[0m\u001b[1;33m\u001b[0m\u001b[0m\n\u001b[1;32m----> 4\u001b[1;33m         \u001b[0mselectBrand\u001b[0m\u001b[1;33m(\u001b[0m\u001b[0mbrand\u001b[0m\u001b[1;33m)\u001b[0m\u001b[1;33m\u001b[0m\u001b[1;33m\u001b[0m\u001b[0m\n\u001b[0m\u001b[0;32m      5\u001b[0m     \u001b[0md\u001b[0m\u001b[1;33m.\u001b[0m\u001b[0mclick\u001b[0m\u001b[1;33m(\u001b[0m\u001b[1;36m0.539\u001b[0m\u001b[1;33m,\u001b[0m \u001b[1;36m0.533\u001b[0m\u001b[1;33m)\u001b[0m\u001b[1;33m\u001b[0m\u001b[1;33m\u001b[0m\u001b[0m\n",
      "\u001b[1;32m<ipython-input-381-50f5a53b31d5>\u001b[0m in \u001b[0;36mselectBrand\u001b[1;34m(brand)\u001b[0m\n\u001b[0;32m      1\u001b[0m \u001b[1;32mdef\u001b[0m \u001b[0mselectBrand\u001b[0m\u001b[1;33m(\u001b[0m\u001b[0mbrand\u001b[0m\u001b[1;33m)\u001b[0m\u001b[1;33m:\u001b[0m\u001b[1;33m\u001b[0m\u001b[1;33m\u001b[0m\u001b[0m\n\u001b[1;32m----> 2\u001b[1;33m     \u001b[0md\u001b[0m\u001b[1;33m(\u001b[0m\u001b[0mtext\u001b[0m\u001b[1;33m=\u001b[0m\u001b[1;34m\"Tab 4 of 4\"\u001b[0m\u001b[1;33m)\u001b[0m\u001b[1;33m.\u001b[0m\u001b[0mclick\u001b[0m\u001b[1;33m(\u001b[0m\u001b[1;33m)\u001b[0m\u001b[1;33m\u001b[0m\u001b[1;33m\u001b[0m\u001b[0m\n\u001b[0m\u001b[0;32m      3\u001b[0m     \u001b[0mtime\u001b[0m\u001b[1;33m.\u001b[0m\u001b[0msleep\u001b[0m\u001b[1;33m(\u001b[0m\u001b[1;36m2\u001b[0m\u001b[1;33m)\u001b[0m\u001b[1;33m\u001b[0m\u001b[1;33m\u001b[0m\u001b[0m\n",
      "\u001b[1;32mc:\\users\\dell\\appdata\\local\\programs\\python\\python38-32\\lib\\site-packages\\uiautomator2\\_selector.py\u001b[0m in \u001b[0;36mclick\u001b[1;34m(self, timeout, offset)\u001b[0m\n\u001b[0;32m    148\u001b[0m         \"\"\"\n\u001b[1;32m--> 149\u001b[1;33m         \u001b[0mself\u001b[0m\u001b[1;33m.\u001b[0m\u001b[0mmust_wait\u001b[0m\u001b[1;33m(\u001b[0m\u001b[0mtimeout\u001b[0m\u001b[1;33m=\u001b[0m\u001b[0mtimeout\u001b[0m\u001b[1;33m)\u001b[0m\u001b[1;33m\u001b[0m\u001b[1;33m\u001b[0m\u001b[0m\n\u001b[0m\u001b[0;32m    150\u001b[0m         \u001b[0mx\u001b[0m\u001b[1;33m,\u001b[0m \u001b[0my\u001b[0m \u001b[1;33m=\u001b[0m \u001b[0mself\u001b[0m\u001b[1;33m.\u001b[0m\u001b[0mcenter\u001b[0m\u001b[1;33m(\u001b[0m\u001b[0moffset\u001b[0m\u001b[1;33m=\u001b[0m\u001b[0moffset\u001b[0m\u001b[1;33m)\u001b[0m\u001b[1;33m\u001b[0m\u001b[1;33m\u001b[0m\u001b[0m\n",
      "\u001b[1;32mc:\\users\\dell\\appdata\\local\\programs\\python\\python38-32\\lib\\site-packages\\uiautomator2\\_selector.py\u001b[0m in \u001b[0;36mmust_wait\u001b[1;34m(self, exists, timeout)\u001b[0m\n\u001b[0;32m    343\u001b[0m         \u001b[1;32mif\u001b[0m \u001b[1;32mnot\u001b[0m \u001b[0mself\u001b[0m\u001b[1;33m.\u001b[0m\u001b[0mwait\u001b[0m\u001b[1;33m(\u001b[0m\u001b[0mexists\u001b[0m\u001b[1;33m,\u001b[0m \u001b[0mtimeout\u001b[0m\u001b[1;33m)\u001b[0m\u001b[1;33m:\u001b[0m\u001b[1;33m\u001b[0m\u001b[1;33m\u001b[0m\u001b[0m\n\u001b[1;32m--> 344\u001b[1;33m             \u001b[1;32mraise\u001b[0m \u001b[0mUiObjectNotFoundError\u001b[0m\u001b[1;33m(\u001b[0m\u001b[1;33m{\u001b[0m\u001b[1;34m'code'\u001b[0m\u001b[1;33m:\u001b[0m \u001b[1;33m-\u001b[0m\u001b[1;36m32002\u001b[0m\u001b[1;33m,\u001b[0m \u001b[1;34m'data'\u001b[0m\u001b[1;33m:\u001b[0m \u001b[0mstr\u001b[0m\u001b[1;33m(\u001b[0m\u001b[0mself\u001b[0m\u001b[1;33m.\u001b[0m\u001b[0mselector\u001b[0m\u001b[1;33m)\u001b[0m\u001b[1;33m,\u001b[0m \u001b[1;34m'method'\u001b[0m\u001b[1;33m:\u001b[0m \u001b[1;34m'wait'\u001b[0m\u001b[1;33m}\u001b[0m\u001b[1;33m)\u001b[0m\u001b[1;33m\u001b[0m\u001b[1;33m\u001b[0m\u001b[0m\n\u001b[0m\u001b[0;32m    345\u001b[0m \u001b[1;33m\u001b[0m\u001b[0m\n",
      "\u001b[1;31mUiObjectNotFoundError\u001b[0m: -32002 Client error: <> data: Selector [text='Tab 4 of 4'], method: None",
      "\nDuring handling of the above exception, another exception occurred:\n",
      "\u001b[1;31mKeyboardInterrupt\u001b[0m                         Traceback (most recent call last)",
      "\u001b[1;32m<ipython-input-398-76ddd1f84646>\u001b[0m in \u001b[0;36m<module>\u001b[1;34m\u001b[0m\n\u001b[0;32m     25\u001b[0m                 \u001b[0mprint\u001b[0m\u001b[1;33m(\u001b[0m\u001b[1;34m\"error\"\u001b[0m\u001b[1;33m)\u001b[0m\u001b[1;33m\u001b[0m\u001b[1;33m\u001b[0m\u001b[0m\n\u001b[0;32m     26\u001b[0m                 \u001b[0mprint\u001b[0m\u001b[1;33m(\u001b[0m\u001b[0me\u001b[0m\u001b[1;33m)\u001b[0m\u001b[1;33m\u001b[0m\u001b[1;33m\u001b[0m\u001b[0m\n\u001b[1;32m---> 27\u001b[1;33m                 \u001b[0mstartApp\u001b[0m\u001b[1;33m(\u001b[0m\u001b[1;33m)\u001b[0m\u001b[1;33m\u001b[0m\u001b[1;33m\u001b[0m\u001b[0m\n\u001b[0m\u001b[0;32m     28\u001b[0m                 \u001b[0mprint\u001b[0m\u001b[1;33m(\u001b[0m\u001b[1;34m\"*\"\u001b[0m \u001b[1;33m*\u001b[0m \u001b[1;36m50\u001b[0m\u001b[1;33m)\u001b[0m\u001b[1;33m\u001b[0m\u001b[1;33m\u001b[0m\u001b[0m\n\u001b[0;32m     29\u001b[0m     \u001b[0msuccess_brand\u001b[0m\u001b[1;33m.\u001b[0m\u001b[0madd\u001b[0m\u001b[1;33m(\u001b[0m\u001b[0mbrand\u001b[0m\u001b[1;33m)\u001b[0m\u001b[1;33m\u001b[0m\u001b[1;33m\u001b[0m\u001b[0m\n",
      "\u001b[1;32m<ipython-input-5-ea1a674265c8>\u001b[0m in \u001b[0;36mstartApp\u001b[1;34m()\u001b[0m\n\u001b[0;32m      7\u001b[0m     \u001b[1;31m# 启动App\u001b[0m\u001b[1;33m\u001b[0m\u001b[1;33m\u001b[0m\u001b[1;33m\u001b[0m\u001b[0m\n\u001b[0;32m      8\u001b[0m     \u001b[0md\u001b[0m\u001b[1;33m.\u001b[0m\u001b[0mapp_start\u001b[0m\u001b[1;33m(\u001b[0m\u001b[1;34m\"com.sensibo.app\"\u001b[0m\u001b[1;33m)\u001b[0m\u001b[1;33m\u001b[0m\u001b[1;33m\u001b[0m\u001b[0m\n\u001b[1;32m----> 9\u001b[1;33m     \u001b[0mtime\u001b[0m\u001b[1;33m.\u001b[0m\u001b[0msleep\u001b[0m\u001b[1;33m(\u001b[0m\u001b[1;36m8\u001b[0m\u001b[1;33m)\u001b[0m\u001b[1;33m\u001b[0m\u001b[1;33m\u001b[0m\u001b[0m\n\u001b[0m\u001b[0;32m     10\u001b[0m     \u001b[1;31m# 点击进入到面板\u001b[0m\u001b[1;33m\u001b[0m\u001b[1;33m\u001b[0m\u001b[1;33m\u001b[0m\u001b[0m\n\u001b[0;32m     11\u001b[0m     \u001b[0md\u001b[0m\u001b[1;33m.\u001b[0m\u001b[0mclick\u001b[0m\u001b[1;33m(\u001b[0m\u001b[1;36m0.53\u001b[0m\u001b[1;33m,\u001b[0m \u001b[1;36m0.246\u001b[0m\u001b[1;33m)\u001b[0m\u001b[1;33m\u001b[0m\u001b[1;33m\u001b[0m\u001b[0m\n",
      "\u001b[1;31mKeyboardInterrupt\u001b[0m: "
     ]
    }
   ],
   "source": [
    "startApp()\n",
    "for brand in list(df[(df['device'].isnull()) | (df['device'] == \"None\")]['brand']):\n",
    "    if brand in success_brand:\n",
    "        continue\n",
    "    print(brand)\n",
    "    selectBrand(brand)\n",
    "    model_list = getBrandModelList()\n",
    "    for model in model_list:\n",
    "        if (brand, model) in success:\n",
    "            continue\n",
    "        i = 1\n",
    "        while True:\n",
    "            if i > 10:\n",
    "                break\n",
    "            try:\n",
    "                print((brand, model))\n",
    "                getBrandRedcode(brand, model)\n",
    "                df_t = getRedcode()\n",
    "                df_t.to_csv(\"./data/{}_{}.csv\".format(brand.replace(\"/\",\" \"), model), index=False)\n",
    "                success.add((brand, model))\n",
    "                print(\"success\")\n",
    "                break\n",
    "            except Exception as e:\n",
    "                i += 1\n",
    "                print(\"error\")\n",
    "                print(e)\n",
    "                startApp()\n",
    "                print(\"*\" * 50)\n",
    "    success_brand.add(brand)"
   ]
  },
  {
   "cell_type": "code",
   "execution_count": 389,
   "metadata": {
    "scrolled": true
   },
   "outputs": [
    {
     "data": {
      "text/plain": [
       "set()"
      ]
     },
     "execution_count": 389,
     "metadata": {},
     "output_type": "execute_result"
    }
   ],
   "source": [
    "success"
   ]
  },
  {
   "cell_type": "code",
   "execution_count": 348,
   "metadata": {
    "collapsed": true
   },
   "outputs": [
    {
     "data": {
      "text/plain": [
       "{('Akai', 'Otherworldly Crane'),\n",
       " ('Aux', 'Lively Walrus'),\n",
       " ('Dyson', 'Dashing Panda'),\n",
       " ('Dyson', 'Dashing Sheep'),\n",
       " ('Dyson', 'Immense Albatross'),\n",
       " ('Dyson', 'Perpetual Chipmunk'),\n",
       " ('GE', 'Elusive Cat'),\n",
       " ('GE', 'Gigantic Sandpiper'),\n",
       " ('GE', 'Majestic Hamster'),\n",
       " ('GE', 'Masked Grasshopper'),\n",
       " ('GE', 'Solid Falcon'),\n",
       " ('GE', 'Witty Kestrel'),\n",
       " ('Honeywell', 'Intuitive Raven'),\n",
       " ('Honeywell', 'Recurring Camel'),\n",
       " ('Lasko', 'Fantastic Turtle'),\n",
       " ('Omega', 'Dynamic Vampire Bat'),\n",
       " ('Platinum', 'Dashing Eel'),\n",
       " ('Royal', 'Attentive Walrus'),\n",
       " ('Royal', 'Benevolent Gorilla'),\n",
       " ('Royal', 'Inventive Cat'),\n",
       " ('Royal', 'Symbolic Lark')}"
      ]
     },
     "execution_count": 348,
     "metadata": {},
     "output_type": "execute_result"
    }
   ],
   "source": [
    "success"
   ]
  },
  {
   "cell_type": "code",
   "execution_count": 283,
   "metadata": {},
   "outputs": [],
   "source": [
    "# success = set()\n",
    "# success.add(('Aux', 'Lively Walrus'))\n",
    "# success.add(('Honeywell', 'Intuitive Raven'))"
   ]
  },
  {
   "cell_type": "code",
   "execution_count": 287,
   "metadata": {},
   "outputs": [],
   "source": []
  },
  {
   "cell_type": "code",
   "execution_count": 356,
   "metadata": {},
   "outputs": [
    {
     "data": {
      "text/plain": [
       "True"
      ]
     },
     "execution_count": 356,
     "metadata": {},
     "output_type": "execute_result"
    }
   ],
   "source": [
    "d(text='Air-Con').exists"
   ]
  },
  {
   "cell_type": "code",
   "execution_count": null,
   "metadata": {},
   "outputs": [],
   "source": []
  }
 ],
 "metadata": {
  "kernelspec": {
   "display_name": "Python 3",
   "language": "python",
   "name": "python3"
  },
  "language_info": {
   "codemirror_mode": {
    "name": "ipython",
    "version": 3
   },
   "file_extension": ".py",
   "mimetype": "text/x-python",
   "name": "python",
   "nbconvert_exporter": "python",
   "pygments_lexer": "ipython3",
   "version": "3.8.3"
  }
 },
 "nbformat": 4,
 "nbformat_minor": 4
}
