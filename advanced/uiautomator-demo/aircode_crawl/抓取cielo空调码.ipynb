{
 "cells": [
  {
   "cell_type": "code",
   "execution_count": 26,
   "metadata": {},
   "outputs": [],
   "source": [
    "brand_list = ['ACPRO', 'ADS', 'AEG', 'Acson', 'Active Air', 'Air Con', 'Air Tempo', 'Airfel', 'Airlux', 'Airmax', 'Airton', 'Alaska', 'Alpicair', 'Alpine home Aire', 'Amana', 'Amcor', 'Americ Aire', 'American Standard', 'Ameristar', 'Amira', 'Amvent', 'Arctic King ', 'Asset', 'Atwood', 'Aux', 'Avallon', 'B-Air', 'BOSCH', 'Besat', 'Black + Decker', 'Blueridge', 'Bondaire', 'Boreal', 'Bryant', 'Calvas', 'Canvas', 'Carrera Super', 'Carrier', 'Celiera', 'Celsius', 'Ceybo', 'Changhong Ruba', 'Chigo', 'Chiltrix', 'Chunlan', 'Ciac', 'Cielo', 'Classic', 'ClimateRight', 'Comfort Breeze', 'Comfort-Aire', 'ComfortStar', 'Comfortmaker', 'Commercial Cool', 'Cool Mart', 'CoolTek', 'Cooper&Hunter', 'DEI', 'Daewoo', 'Daikin', 'Daizuki', 'Danby', 'Dawlance', 'Daytek', \"De'Longhi\", 'Della', 'DenaliAire', 'Dicore', 'DuVentus', 'Ducane', 'Ductless Aire', 'EMI', 'Eco-Air', 'EdgeStar', 'Electra', 'Electrolux', 'Energy Conscious', 'Enstar', 'EnviroAire', 'Erisson', 'Fedders', 'Ferroli', 'ForestAir', 'Friedrich', 'Frigidaire ', 'Fujitsu', 'Funiki', 'GE ', 'Galanz', 'General Plus', 'Generalux', 'Genex', 'Goodman', 'Gree', 'Green Energy', 'Haier', 'Heil', 'Hessaire', 'HiSEER', 'Hisense', 'Hitachi', 'Homage', 'Honeywell', 'Hotspot Energy', 'Hualing', 'Hundai', 'Hyundai ', 'Innova', 'Innovair', 'IslandAire', 'JHS', 'James', 'KaussMann', 'Kelang', 'Kelon', 'Kelvinator', 'Kenmore', 'Kenwood', 'Kerr', 'Kingsfin', 'Kiowa', 'Klimaire', 'Koldfront', 'Komeco', 'Kool King', 'LG', 'Lennox', 'MRCOOL', 'MZB', 'Magnavox', 'MarinAire', 'Mars', 'Master', 'Maxe', 'McQuay', 'Meide', 'Midea', 'Mirage', 'Mistral', 'Mitsubishi', 'Multiaqua', 'Multizone Sahara', 'NWT', 'National', 'NewAir', 'Newex', 'Nikai', 'Nocria', 'Nortek Global HVAC', 'North Cool', 'OGeneral ', 'OTEC', 'Ocean Breeze', 'Okyotech', 'Olimpia Splendid', 'Olmo', 'Orient', 'Ouellet', 'PEL', 'Panasonic', 'Pearl', 'Penguin', 'Perfect Aire', 'Petra', 'Pioneer', 'Premium', 'Pridiom', 'Quattroclima', 'Qunda', 'Ramsond', 'Reetech', 'Remittance', 'Rex', 'Rheem', 'Riello', 'Rosewill', 'SAPORO', 'Sabro', 'Saijo Denki', 'Samsonic', 'Samsung', 'Sanlux', 'Sanyo', 'Savaire', 'Sea Breeze', 'Senville', 'SereneLife', 'Sharkaire', 'Sharp', 'Shinco', 'Siemens', 'SimpliComfort', 'Singer', 'Soleus Air', 'Speed Kool', 'Subzero', 'Sungold', 'Super Air', 'Super Pure', 'Supra', 'Surrey', 'Syinix', 'TCL', 'TGM', 'Tadiran', 'Teco', 'Tempblue', 'Terim', 'Thermal Zone', 'Thermocore', 'Tian Shan', 'Toshiba', 'Toshiba Carrier', 'Tosot', 'Toyo', 'Trane', 'Turbo Air', 'Union Aire', 'VOLTAS', 'Videocon', 'Vivax', 'Wanbao', 'Waves', 'Webasto FCF', 'Westinghouse', 'Whirlpool', 'Whynter', 'Winner', 'WintAir', 'YMGI', 'Yingray', 'Yoko', 'York', 'Zamil', 'Zephyr', 'haam electric ', 'icoolair']"
   ]
  },
  {
   "cell_type": "code",
   "execution_count": 273,
   "metadata": {},
   "outputs": [],
   "source": [
    "import uiautomator2 as ui2\n",
    "import os\n",
    "import pandas as pd\n",
    "import time\n",
    "import unittest\n",
    "import json\n",
    "import re\n",
    "import csv"
   ]
  },
  {
   "cell_type": "code",
   "execution_count": 1,
   "metadata": {},
   "outputs": [],
   "source": [
    "def level2redcode(code_list, frequency=38000, state=305):\n",
    "    listValue = []\n",
    "    listValue1 = []\n",
    "    if isinstance(code_list, str):\n",
    "        code_list = eval(code_list)\n",
    "#     list1 = code_list[2:]  # 去掉频率和长度\n",
    "    list1 = code_list  # 去掉频率和长度\n",
    "    if not list1:\n",
    "        return 38000, []\n",
    "    for li in range(len(list1)):\n",
    "        n = round(int(list1[li]) / state)\n",
    "        if (n > 255):\n",
    "            listValue1.append(0)\n",
    "            listValue1.append(n >> 8 & 0xff)\n",
    "            listValue1.append(n & 0xff)\n",
    "        else:\n",
    "            listValue1.append(n)\n",
    "    q1 = round(int(frequency / 1000), 0)  # 要取小数将第一个int改为float，最后0改要求小数位\n",
    "    if (q1 > 255):\n",
    "        listValue.append(q1 >> 8 & 0xff)\n",
    "        listValue.append(q1 & 0xff)\n",
    "    else:\n",
    "        listValue.append(q1)\n",
    "        listValue.append(0)\n",
    "    if (len(listValue1) > 255):\n",
    "        listValue.append(len(listValue1) & 0xff)\n",
    "        listValue.append(len(listValue1) >> 8 & 0xff)\n",
    "    else:\n",
    "        listValue.append(len(listValue1))\n",
    "        listValue.append(0)\n",
    "    listValue = listValue + listValue1\n",
    "    return listValue\n",
    "\n",
    "def get_redcode():\n",
    "    fr = open(\"C:/Users/dell/Desktop/IRReader/IRReader2015/demo20190619-1/IRDemo/bin/Debug/err_code.txt\", \"r\")\n",
    "    levelcode = fr.read().split(\"\\n\")[-2]\n",
    "    fr.close()\n",
    "    redcode = level2redcode([int(i) for i in levelcode.split(\" \")])\n",
    "    return redcode"
   ]
  },
  {
   "cell_type": "code",
   "execution_count": 2,
   "metadata": {},
   "outputs": [
    {
     "ename": "NameError",
     "evalue": "name 'ui2' is not defined",
     "output_type": "error",
     "traceback": [
      "\u001B[1;31m---------------------------------------------------------------------------\u001B[0m",
      "\u001B[1;31mNameError\u001B[0m                                 Traceback (most recent call last)",
      "\u001B[1;32m<ipython-input-2-46a27b546a78>\u001B[0m in \u001B[0;36m<module>\u001B[1;34m\u001B[0m\n\u001B[1;32m----> 1\u001B[1;33m \u001B[0md\u001B[0m \u001B[1;33m=\u001B[0m \u001B[0mui2\u001B[0m\u001B[1;33m.\u001B[0m\u001B[0mconnect_usb\u001B[0m\u001B[1;33m(\u001B[0m\u001B[1;34m'ad5242a90506'\u001B[0m\u001B[1;33m)\u001B[0m\u001B[1;33m\u001B[0m\u001B[1;33m\u001B[0m\u001B[0m\n\u001B[0m\u001B[0;32m      2\u001B[0m \u001B[1;31m# 关闭APP\u001B[0m\u001B[1;33m\u001B[0m\u001B[1;33m\u001B[0m\u001B[1;33m\u001B[0m\u001B[0m\n\u001B[0;32m      3\u001B[0m \u001B[0md\u001B[0m\u001B[1;33m.\u001B[0m\u001B[0mapp_stop\u001B[0m\u001B[1;33m(\u001B[0m\u001B[1;34m\"com.cielo.app.cielohome\"\u001B[0m\u001B[1;33m)\u001B[0m\u001B[1;33m\u001B[0m\u001B[1;33m\u001B[0m\u001B[0m\n\u001B[0;32m      4\u001B[0m \u001B[1;31m# 启动App\u001B[0m\u001B[1;33m\u001B[0m\u001B[1;33m\u001B[0m\u001B[1;33m\u001B[0m\u001B[0m\n\u001B[0;32m      5\u001B[0m \u001B[0md\u001B[0m\u001B[1;33m.\u001B[0m\u001B[0mapp_start\u001B[0m\u001B[1;33m(\u001B[0m\u001B[1;34m\"com.cielo.app.cielohome\"\u001B[0m\u001B[1;33m)\u001B[0m\u001B[1;33m\u001B[0m\u001B[1;33m\u001B[0m\u001B[0m\n",
      "\u001B[1;31mNameError\u001B[0m: name 'ui2' is not defined"
     ]
    }
   ],
   "source": [
    "d = ui2.connect_usb('ad5242a90506')\n",
    "# 关闭APP\n",
    "d.app_stop(\"com.cielo.app.cielohome\")\n",
    "# 启动App\n",
    "d.app_start(\"com.cielo.app.cielohome\")"
   ]
  },
  {
   "cell_type": "code",
   "execution_count": 3,
   "metadata": {},
   "outputs": [
    {
     "ename": "NameError",
     "evalue": "name 'd' is not defined",
     "output_type": "error",
     "traceback": [
      "\u001B[1;31m---------------------------------------------------------------------------\u001B[0m",
      "\u001B[1;31mNameError\u001B[0m                                 Traceback (most recent call last)",
      "\u001B[1;32m<ipython-input-3-8612db5021eb>\u001B[0m in \u001B[0;36m<module>\u001B[1;34m\u001B[0m\n\u001B[0;32m      1\u001B[0m \u001B[1;31m# 点击设置\u001B[0m\u001B[1;33m\u001B[0m\u001B[1;33m\u001B[0m\u001B[1;33m\u001B[0m\u001B[0m\n\u001B[1;32m----> 2\u001B[1;33m \u001B[1;32mwhile\u001B[0m \u001B[1;32mnot\u001B[0m \u001B[0md\u001B[0m\u001B[1;33m(\u001B[0m\u001B[0mresourceId\u001B[0m\u001B[1;33m=\u001B[0m\u001B[1;34m\"com.cielo.app.cielohome:id/imgSetting\"\u001B[0m\u001B[1;33m)\u001B[0m\u001B[1;33m.\u001B[0m\u001B[0mexists\u001B[0m\u001B[1;33m:\u001B[0m\u001B[1;33m\u001B[0m\u001B[1;33m\u001B[0m\u001B[0m\n\u001B[0m\u001B[0;32m      3\u001B[0m     \u001B[0mtime\u001B[0m\u001B[1;33m.\u001B[0m\u001B[0msleep\u001B[0m\u001B[1;33m(\u001B[0m\u001B[1;36m1\u001B[0m\u001B[1;33m)\u001B[0m\u001B[1;33m\u001B[0m\u001B[1;33m\u001B[0m\u001B[0m\n\u001B[0;32m      4\u001B[0m \u001B[0md\u001B[0m\u001B[1;33m(\u001B[0m\u001B[0mresourceId\u001B[0m\u001B[1;33m=\u001B[0m\u001B[1;34m\"com.cielo.app.cielohome:id/imgSetting\"\u001B[0m\u001B[1;33m)\u001B[0m\u001B[1;33m.\u001B[0m\u001B[0mclick\u001B[0m\u001B[1;33m(\u001B[0m\u001B[1;33m)\u001B[0m\u001B[1;33m\u001B[0m\u001B[1;33m\u001B[0m\u001B[0m\n\u001B[0;32m      5\u001B[0m \u001B[1;33m\u001B[0m\u001B[0m\n",
      "\u001B[1;31mNameError\u001B[0m: name 'd' is not defined"
     ]
    }
   ],
   "source": [
    "# 点击设置\n",
    "while not d(resourceId=\"com.cielo.app.cielohome:id/imgSetting\").exists:\n",
    "    time.sleep(1)\n",
    "d(resourceId=\"com.cielo.app.cielohome:id/imgSetting\").click()"
   ]
  },
  {
   "cell_type": "code",
   "execution_count": 7,
   "metadata": {},
   "outputs": [],
   "source": [
    "while not d(text=\"Change Appliance\").exists:\n",
    "    time.sleep(1)\n",
    "d(text=\"Change Appliance\").click()"
   ]
  },
  {
   "cell_type": "code",
   "execution_count": 151,
   "metadata": {
    "collapsed": true
   },
   "outputs": [
    {
     "name": "stderr",
     "output_type": "stream",
     "text": [
      "[D 201012 16:04:55 __init__:590] kill process(ps): uiautomator\n",
      "[D 201012 16:04:58 __init__:608] uiautomator-v2 is starting ... left: 40.0s\n",
      "[D 201012 16:04:59 __init__:608] uiautomator-v2 is starting ... left: 39.0s\n",
      "[D 201012 16:05:00 __init__:608] uiautomator-v2 is starting ... left: 37.9s\n",
      "[D 201012 16:05:01 __init__:608] uiautomator-v2 is starting ... left: 36.9s\n",
      "[D 201012 16:05:02 __init__:608] uiautomator-v2 is starting ... left: 35.9s\n",
      "[D 201012 16:05:03 __init__:608] uiautomator-v2 is starting ... left: 34.8s\n",
      "[D 201012 16:05:04 __init__:608] uiautomator-v2 is starting ... left: 33.8s\n",
      "[I 201012 16:05:04 __init__:573] uiautomator back to normal\n"
     ]
    }
   ],
   "source": [
    "while not d(text=\"Manual Configuration\").exists:\n",
    "    time.sleep(1)\n",
    "d(text=\"Manual Configuration\").click()"
   ]
  },
  {
   "cell_type": "code",
   "execution_count": 152,
   "metadata": {},
   "outputs": [],
   "source": [
    "while not d(resourceId=\"com.cielo.app.cielohome:id/imageView\").exists:\n",
    "    time.sleep(1)\n",
    "d(resourceId=\"com.cielo.app.cielohome:id/imageView\").click()\n",
    "time.sleep(1)"
   ]
  },
  {
   "cell_type": "code",
   "execution_count": 153,
   "metadata": {},
   "outputs": [],
   "source": [
    "# 选择品牌\n",
    "brand = 'York'\n",
    "d(resourceId=\"com.cielo.app.cielohome:id/edtSearch\").send_keys(brand)\n",
    "time.sleep(1)\n",
    "d(resourceId=\"com.cielo.app.cielohome:id/tvItemTitle\", text=brand).click()"
   ]
  },
  {
   "cell_type": "code",
   "execution_count": 164,
   "metadata": {},
   "outputs": [],
   "source": [
    "# 获取空调前几个空调型号\n",
    "d(resourceId=\"com.cielo.app.cielohome:id/spnModelNumber\").click()\n",
    "time.sleep(1)\n",
    "air_model_list = []\n",
    "for elem in d.xpath('//android.widget.TextView').all():\n",
    "    if elem.info['packageName'] == 'com.cielo.app.cielohome' and elem.text != \"Remote Control Model Number\":\n",
    "        air_model_list.append(elem.text)\n",
    "d(resourceId=\"android:id/button1\").click()\n",
    "time.sleep(1)"
   ]
  },
  {
   "cell_type": "code",
   "execution_count": 165,
   "metadata": {},
   "outputs": [
    {
     "data": {
      "text/plain": [
       "['Model 2', 'TT-01', 'Model-3 (Celsius)', 'R92/BGE (Celsius)']"
      ]
     },
     "execution_count": 165,
     "metadata": {},
     "output_type": "execute_result"
    }
   ],
   "source": [
    "air_model_list"
   ]
  },
  {
   "cell_type": "code",
   "execution_count": 166,
   "metadata": {},
   "outputs": [],
   "source": [
    "air_model = air_model_list[3]"
   ]
  },
  {
   "cell_type": "code",
   "execution_count": 172,
   "metadata": {},
   "outputs": [],
   "source": [
    "d(resourceId=\"com.cielo.app.cielohome:id/spnModelNumber\").click()\n",
    "time.sleep(1)\n",
    "d(resourceId=\"android:id/search_src_text\").send_keys(air_model)\n",
    "time.sleep(1)\n",
    "d(resourceId=\"com.cielo.app.cielohome:id/listItems\").click()"
   ]
  },
  {
   "cell_type": "code",
   "execution_count": 175,
   "metadata": {},
   "outputs": [],
   "source": [
    "# 确定品牌型号\n",
    "d.click(0.504, 0.528)\n",
    "time.sleep(1)\n",
    "d(resourceId=\"android:id/button1\").click()\n",
    "while not d(resourceId=\"com.cielo.app.cielohome:id/imgSetting\").exists:\n",
    "    time.sleep(1)"
   ]
  },
  {
   "cell_type": "code",
   "execution_count": 247,
   "metadata": {},
   "outputs": [],
   "source": [
    "## 开始获取红码\n",
    "rel_data = []\n",
    "d(resourceId=\"com.cielo.app.cielohome:id/rltDeviceStateBg\").click()"
   ]
  },
  {
   "cell_type": "code",
   "execution_count": 183,
   "metadata": {},
   "outputs": [],
   "source": [
    "# 开机\n",
    "d(resourceId=\"com.cielo.app.cielohome:id/fabPowerOff\").click()"
   ]
  },
  {
   "cell_type": "code",
   "execution_count": 181,
   "metadata": {},
   "outputs": [],
   "source": [
    "# 获取关机状态\n",
    "if os.path.exists(\"C:/Users/dell/Desktop/IRReader/IRReader2015/demo20190619-1/IRDemo/bin/Debug/err_code.txt\"):\n",
    "    os.remove(\"C:/Users/dell/Desktop/IRReader/IRReader2015/demo20190619-1/IRDemo/bin/Debug/err_code.txt\")\n",
    "d(resourceId=\"com.cielo.app.cielohome:id/rltPower\").click()\n",
    "time.sleep(1)\n",
    "redcode=str(get_redcode())\n",
    "rel_data.append(['close','cool','speed1','auto',27,redcode])\n",
    "# 开机\n",
    "d(resourceId=\"com.cielo.app.cielohome:id/fabPowerOff\").click()"
   ]
  },
  {
   "cell_type": "code",
   "execution_count": 3,
   "metadata": {},
   "outputs": [
    {
     "ename": "NameError",
     "evalue": "name 'd' is not defined",
     "output_type": "error",
     "traceback": [
      "\u001B[1;31m---------------------------------------------------------------------------\u001B[0m",
      "\u001B[1;31mNameError\u001B[0m                                 Traceback (most recent call last)",
      "\u001B[1;32m<ipython-input-3-a9106d67a0d6>\u001B[0m in \u001B[0;36m<module>\u001B[1;34m\u001B[0m\n\u001B[0;32m      9\u001B[0m     \u001B[1;32melse\u001B[0m\u001B[1;33m:\u001B[0m\u001B[1;33m\u001B[0m\u001B[1;33m\u001B[0m\u001B[0m\n\u001B[0;32m     10\u001B[0m         \u001B[1;32mreturn\u001B[0m \u001B[0mtemp\u001B[0m\u001B[1;33m\u001B[0m\u001B[1;33m\u001B[0m\u001B[0m\n\u001B[1;32m---> 11\u001B[1;33m \u001B[0mgetinfo\u001B[0m\u001B[1;33m(\u001B[0m\u001B[1;33m)\u001B[0m\u001B[1;33m\u001B[0m\u001B[1;33m\u001B[0m\u001B[0m\n\u001B[0m",
      "\u001B[1;32m<ipython-input-3-a9106d67a0d6>\u001B[0m in \u001B[0;36mgetinfo\u001B[1;34m()\u001B[0m\n\u001B[0;32m      1\u001B[0m \u001B[1;32mdef\u001B[0m \u001B[0mgetinfo\u001B[0m\u001B[1;33m(\u001B[0m\u001B[1;33m)\u001B[0m\u001B[1;33m:\u001B[0m\u001B[1;33m\u001B[0m\u001B[1;33m\u001B[0m\u001B[0m\n\u001B[1;32m----> 2\u001B[1;33m     \u001B[1;32mwhile\u001B[0m \u001B[0md\u001B[0m\u001B[1;33m(\u001B[0m\u001B[0mresourceId\u001B[0m\u001B[1;33m=\u001B[0m\u001B[1;34m\"android:id/button2\"\u001B[0m\u001B[1;33m,\u001B[0m \u001B[0mtext\u001B[0m\u001B[1;33m=\u001B[0m\u001B[1;34m'OK'\u001B[0m\u001B[1;33m)\u001B[0m\u001B[1;33m.\u001B[0m\u001B[0mexists\u001B[0m\u001B[1;33m:\u001B[0m\u001B[1;33m\u001B[0m\u001B[1;33m\u001B[0m\u001B[0m\n\u001B[0m\u001B[0;32m      3\u001B[0m         \u001B[0md\u001B[0m\u001B[1;33m(\u001B[0m\u001B[0mresourceId\u001B[0m\u001B[1;33m=\u001B[0m\u001B[1;34m\"android:id/button2\"\u001B[0m\u001B[1;33m,\u001B[0m \u001B[0mtext\u001B[0m\u001B[1;33m=\u001B[0m\u001B[1;34m'OK'\u001B[0m\u001B[1;33m)\u001B[0m\u001B[1;33m.\u001B[0m\u001B[0mclick\u001B[0m\u001B[1;33m(\u001B[0m\u001B[1;33m)\u001B[0m\u001B[1;33m\u001B[0m\u001B[1;33m\u001B[0m\u001B[0m\n\u001B[0;32m      4\u001B[0m         \u001B[0mtime\u001B[0m\u001B[1;33m.\u001B[0m\u001B[0msleep\u001B[0m\u001B[1;33m(\u001B[0m\u001B[1;36m1\u001B[0m\u001B[1;33m)\u001B[0m\u001B[1;33m\u001B[0m\u001B[1;33m\u001B[0m\u001B[0m\n\u001B[0;32m      5\u001B[0m     \u001B[0mtemp\u001B[0m \u001B[1;33m=\u001B[0m \u001B[0md\u001B[0m\u001B[1;33m(\u001B[0m\u001B[0mresourceId\u001B[0m\u001B[1;33m=\u001B[0m\u001B[1;34m\"com.cielo.app.cielohome:id/tvTemp\"\u001B[0m\u001B[1;33m)\u001B[0m\u001B[1;33m.\u001B[0m\u001B[0mget_text\u001B[0m\u001B[1;33m(\u001B[0m\u001B[1;33m)\u001B[0m\u001B[1;33m\u001B[0m\u001B[1;33m\u001B[0m\u001B[0m\n",
      "\u001B[1;31mNameError\u001B[0m: name 'd' is not defined"
     ]
    }
   ],
   "source": [
    "def getinfo():\n",
    "    while d(resourceId=\"android:id/button2\", text='OK').exists:\n",
    "        d(resourceId=\"android:id/button2\", text='OK').click()\n",
    "        time.sleep(1)\n",
    "    temp = d(resourceId=\"com.cielo.app.cielohome:id/tvTemp\").get_text()\n",
    "    temp = int(temp.replace(\"°\",\"\"))\n",
    "    if temp > 40:\n",
    "        return round((temp-32)/1.8)\n",
    "    else:\n",
    "        return temp\n",
    "getinfo()"
   ]
  },
  {
   "cell_type": "code",
   "execution_count": 9,
   "metadata": {},
   "outputs": [],
   "source": [
    "# 获取其他开机状态\n",
    "# 最低温度\n",
    "d.click(0.24, 0.52)\n",
    "min_temp = getinfo()"
   ]
  },
  {
   "cell_type": "code",
   "execution_count": 10,
   "metadata": {},
   "outputs": [],
   "source": [
    "# 最高温度\n",
    "d.click(0.754, 0.52)\n",
    "max_temp = getinfo()"
   ]
  },
  {
   "cell_type": "code",
   "execution_count": 5,
   "metadata": {},
   "outputs": [],
   "source": [
    "position = [(0.24, 0.52),(0.196, 0.493),(0.161, 0.46),(0.147, 0.434),(0.135, 0.392),(0.133, 0.385),(0.158, 0.335),(0.184, 0.307),(0.231, 0.275),\n",
    "           (0.275, 0.255),(0.35, 0.233),(0.387, 0.227),(0.5, 0.219),(0.605, 0.227),(0.675, 0.238),(0.726, 0.259),(0.759, 0.272),(0.796, 0.293),\n",
    "           (0.838, 0.331),(0.864, 0.377),(0.859, 0.407),(0.852, 0.438),(0.831, 0.465),(0.81, 0.486),(0.78, 0.507),(0.754, 0.52)]"
   ]
  },
  {
   "cell_type": "code",
   "execution_count": 215,
   "metadata": {
    "collapsed": true
   },
   "outputs": [
    {
     "name": "stdout",
     "output_type": "stream",
     "text": [
      "10\n",
      "11\n",
      "12\n",
      "13\n",
      "14\n",
      "14\n",
      "15\n",
      "16\n",
      "17\n",
      "18\n",
      "19\n",
      "20\n",
      "21\n",
      "22\n",
      "23\n",
      "24\n",
      "25\n",
      "26\n",
      "27\n",
      "28\n",
      "29\n",
      "30\n",
      "30\n",
      "31\n",
      "32\n",
      "32\n"
     ]
    }
   ],
   "source": [
    "for i in position:\n",
    "    d.click(i[0], i[1])\n",
    "    print(getinfo())"
   ]
  },
  {
   "cell_type": "code",
   "execution_count": 226,
   "metadata": {
    "collapsed": true
   },
   "outputs": [
    {
     "name": "stderr",
     "output_type": "stream",
     "text": [
      "[D 201013 15:04:16 __init__:590] kill process(ps): uiautomator\n",
      "[D 201013 15:04:18 __init__:608] uiautomator-v2 is starting ... left: 40.0s\n",
      "[D 201013 15:04:20 __init__:608] uiautomator-v2 is starting ... left: 39.0s\n",
      "[D 201013 15:04:21 __init__:608] uiautomator-v2 is starting ... left: 38.0s\n",
      "[D 201013 15:04:22 __init__:608] uiautomator-v2 is starting ... left: 36.9s\n",
      "[D 201013 15:04:23 __init__:608] uiautomator-v2 is starting ... left: 35.9s\n",
      "[D 201013 15:04:24 __init__:608] uiautomator-v2 is starting ... left: 34.9s\n",
      "[D 201013 15:04:25 __init__:608] uiautomator-v2 is starting ... left: 33.9s\n",
      "[I 201013 15:04:25 __init__:573] uiautomator back to normal\n"
     ]
    }
   ],
   "source": [
    "# 获取有多少风向\n",
    "direct_list = []\n",
    "if d(resourceId=\"com.cielo.app.cielohome:id/tvPositionName\").exists:\n",
    "    direct = d(resourceId=\"com.cielo.app.cielohome:id/tvPositionName\").get_text()\n",
    "    while direct not in direct_list:\n",
    "        direct_list.append(direct)\n",
    "        d(resourceId=\"com.cielo.app.cielohome:id/tvPositionName\").click()\n",
    "        direct = d(resourceId=\"com.cielo.app.cielohome:id/tvPositionName\").get_text()\n",
    "direct_dic = {}\n",
    "if len(direct_list) > 1:\n",
    "    if 'Auto' in direct_list:\n",
    "        direct_dic['Auto'] = 'auto'\n",
    "    if 'Pos1' in direct_list:\n",
    "        direct_dic['Pos1'] = 'fix'\n",
    "elif len(direct_list) == 1:\n",
    "    direct_dic[direct_list[0]] = 'auto'"
   ]
  },
  {
   "cell_type": "code",
   "execution_count": 227,
   "metadata": {},
   "outputs": [
    {
     "data": {
      "text/plain": [
       "{'Auto': 'auto', 'Pos1': 'fix'}"
      ]
     },
     "execution_count": 227,
     "metadata": {},
     "output_type": "execute_result"
    }
   ],
   "source": [
    "direct_dic"
   ]
  },
  {
   "cell_type": "code",
   "execution_count": 224,
   "metadata": {},
   "outputs": [],
   "source": [
    "# 获取有多少风速\n",
    "speed_dic = {}\n",
    "if d(resourceId=\"com.cielo.app.cielohome:id/tvFanName\").exists:\n",
    "    d(resourceId=\"com.cielo.app.cielohome:id/tvFanName\").click()\n",
    "    time.sleep(1)\n",
    "    if d(resourceId=\"com.cielo.app.cielohome:id/content_card_list_item_title_tv\", text='High').exists:\n",
    "        speed_dic['High'] = 'high'\n",
    "    if d(resourceId=\"com.cielo.app.cielohome:id/content_card_list_item_title_tv\", text='Low').exists:\n",
    "        speed_dic['Low'] = 'low'\n",
    "    if d(resourceId=\"com.cielo.app.cielohome:id/content_card_list_item_title_tv\", text='Medium').exists:\n",
    "        speed_dic['Medium'] = 'middle'\n",
    "    if d(resourceId=\"com.cielo.app.cielohome:id/content_card_list_item_title_tv\", text='Auto').exists:\n",
    "        speed_dic['Auto'] = 'auto'\n",
    "    d.click(0.467, 0.488)\n",
    "if len(speed_dic) == 1:\n",
    "    for i in speed_dic:\n",
    "        speed_dic[i] = 'auto'"
   ]
  },
  {
   "cell_type": "code",
   "execution_count": 225,
   "metadata": {},
   "outputs": [
    {
     "data": {
      "text/plain": [
       "{'High': 'speed3', 'Low': 'speed1', 'Medium': 'speed2', 'Auto': 'auto'}"
      ]
     },
     "execution_count": 225,
     "metadata": {},
     "output_type": "execute_result"
    }
   ],
   "source": [
    "speed_dic"
   ]
  },
  {
   "cell_type": "code",
   "execution_count": 230,
   "metadata": {},
   "outputs": [],
   "source": [
    "mode_dic = {}\n",
    "if d(resourceId=\"com.cielo.app.cielohome:id/tvModeName\", text='Cool').exists:\n",
    "    mode_dic['Cool'] = 'cool'\n",
    "if d(resourceId=\"com.cielo.app.cielohome:id/tvModeName\", text='Heat').exists:\n",
    "    mode_dic['Heat'] = 'heat'\n",
    "mode_dic"
   ]
  },
  {
   "cell_type": "code",
   "execution_count": 237,
   "metadata": {},
   "outputs": [
    {
     "data": {
      "text/plain": [
       "{'Cool': 'cool', 'Heat': 'heat'}"
      ]
     },
     "execution_count": 237,
     "metadata": {},
     "output_type": "execute_result"
    }
   ],
   "source": [
    "mode_dic"
   ]
  },
  {
   "cell_type": "code",
   "execution_count": null,
   "metadata": {},
   "outputs": [],
   "source": []
  },
  {
   "cell_type": "code",
   "execution_count": 238,
   "metadata": {},
   "outputs": [],
   "source": [
    "# 退回设置界面\n",
    "d.click(0.067, 0.07)"
   ]
  },
  {
   "cell_type": "markdown",
   "metadata": {},
   "source": [
    "# 整体流程"
   ]
  },
  {
   "cell_type": "code",
   "execution_count": 6,
   "metadata": {},
   "outputs": [],
   "source": [
    "position = [(0.24, 0.52),(0.196, 0.493),(0.161, 0.46),(0.147, 0.434),(0.135, 0.392),(0.133, 0.385),(0.158, 0.335),(0.184, 0.307),(0.231, 0.275),\n",
    "           (0.275, 0.255),(0.35, 0.233),(0.387, 0.227),(0.5, 0.219),(0.605, 0.227),(0.675, 0.238),(0.726, 0.259),(0.759, 0.272),(0.796, 0.293),\n",
    "           (0.838, 0.331),(0.864, 0.377),(0.859, 0.407),(0.852, 0.438),(0.831, 0.465),(0.81, 0.486),(0.78, 0.507),(0.754, 0.52)]"
   ]
  },
  {
   "cell_type": "code",
   "execution_count": 37,
   "metadata": {},
   "outputs": [],
   "source": [
    "success_brand = []"
   ]
  },
  {
   "cell_type": "code",
   "execution_count": null,
   "metadata": {},
   "outputs": [],
   "source": []
  },
  {
   "cell_type": "code",
   "execution_count": 57,
   "metadata": {
    "scrolled": true
   },
   "outputs": [
    {
     "name": "stdout",
     "output_type": "stream",
     "text": [
      "American Standard\n",
      "YACIFBF (Celsius) : 该模式已经抓完\n",
      "YACIFBF (Fahrenheit) : 开始抓取\n",
      "[Errno 2] No such file or directory: 'C:/Users/dell/Desktop/IRReader/IRReader2015/demo20190619-1/IRDemo/bin/Debug/err_code.txt'\n",
      "American Standard\n",
      "YACIFBF (Celsius) : 该模式已经抓完\n",
      "YACIFBF (Fahrenheit) : 开始抓取\n",
      "[Errno 2] No such file or directory: 'C:/Users/dell/Desktop/IRReader/IRReader2015/demo20190619-1/IRDemo/bin/Debug/err_code.txt'\n",
      "American Standard\n",
      "YACIFBF (Celsius) : 该模式已经抓完\n",
      "YACIFBF (Fahrenheit) : 开始抓取\n",
      "[Errno 2] No such file or directory: 'C:/Users/dell/Desktop/IRReader/IRReader2015/demo20190619-1/IRDemo/bin/Debug/err_code.txt'\n",
      "American Standard\n",
      "YACIFBF (Celsius) : 该模式已经抓完\n",
      "YACIFBF (Fahrenheit) : 开始抓取\n",
      "[Errno 2] No such file or directory: 'C:/Users/dell/Desktop/IRReader/IRReader2015/demo20190619-1/IRDemo/bin/Debug/err_code.txt'\n",
      "American Standard\n",
      "YACIFBF (Celsius) : 该模式已经抓完\n",
      "YACIFBF (Fahrenheit) : 开始抓取\n",
      "[Errno 2] No such file or directory: 'C:/Users/dell/Desktop/IRReader/IRReader2015/demo20190619-1/IRDemo/bin/Debug/err_code.txt'\n",
      "American Standard\n",
      "YACIFBF (Celsius) : 该模式已经抓完\n",
      "YACIFBF (Fahrenheit) : 开始抓取\n",
      "[Errno 2] No such file or directory: 'C:/Users/dell/Desktop/IRReader/IRReader2015/demo20190619-1/IRDemo/bin/Debug/err_code.txt'\n",
      "American Standard\n"
     ]
    },
    {
     "ename": "KeyboardInterrupt",
     "evalue": "",
     "output_type": "error",
     "traceback": [
      "\u001B[1;31m---------------------------------------------------------------------------\u001B[0m",
      "\u001B[1;31mKeyboardInterrupt\u001B[0m                         Traceback (most recent call last)",
      "\u001B[1;32m<ipython-input-57-19c4c9c9dcd8>\u001B[0m in \u001B[0;36m<module>\u001B[1;34m\u001B[0m\n\u001B[0;32m     19\u001B[0m             \u001B[0md\u001B[0m\u001B[1;33m(\u001B[0m\u001B[0mtext\u001B[0m\u001B[1;33m=\u001B[0m\u001B[1;34m\"Change Appliance\"\u001B[0m\u001B[1;33m)\u001B[0m\u001B[1;33m.\u001B[0m\u001B[0mclick\u001B[0m\u001B[1;33m(\u001B[0m\u001B[1;33m)\u001B[0m\u001B[1;33m\u001B[0m\u001B[1;33m\u001B[0m\u001B[0m\n\u001B[0;32m     20\u001B[0m             \u001B[1;32mwhile\u001B[0m \u001B[1;32mnot\u001B[0m \u001B[0md\u001B[0m\u001B[1;33m(\u001B[0m\u001B[0mtext\u001B[0m\u001B[1;33m=\u001B[0m\u001B[1;34m\"Manual Configuration\"\u001B[0m\u001B[1;33m)\u001B[0m\u001B[1;33m.\u001B[0m\u001B[0mexists\u001B[0m\u001B[1;33m:\u001B[0m\u001B[1;33m\u001B[0m\u001B[1;33m\u001B[0m\u001B[0m\n\u001B[1;32m---> 21\u001B[1;33m                 \u001B[0mtime\u001B[0m\u001B[1;33m.\u001B[0m\u001B[0msleep\u001B[0m\u001B[1;33m(\u001B[0m\u001B[1;36m1\u001B[0m\u001B[1;33m)\u001B[0m\u001B[1;33m\u001B[0m\u001B[1;33m\u001B[0m\u001B[0m\n\u001B[0m\u001B[0;32m     22\u001B[0m             \u001B[0md\u001B[0m\u001B[1;33m(\u001B[0m\u001B[0mtext\u001B[0m\u001B[1;33m=\u001B[0m\u001B[1;34m\"Manual Configuration\"\u001B[0m\u001B[1;33m)\u001B[0m\u001B[1;33m.\u001B[0m\u001B[0mclick\u001B[0m\u001B[1;33m(\u001B[0m\u001B[1;33m)\u001B[0m\u001B[1;33m\u001B[0m\u001B[1;33m\u001B[0m\u001B[0m\n\u001B[0;32m     23\u001B[0m             \u001B[1;32mwhile\u001B[0m \u001B[1;32mnot\u001B[0m \u001B[0md\u001B[0m\u001B[1;33m(\u001B[0m\u001B[0mresourceId\u001B[0m\u001B[1;33m=\u001B[0m\u001B[1;34m\"com.cielo.app.cielohome:id/imageView\"\u001B[0m\u001B[1;33m)\u001B[0m\u001B[1;33m.\u001B[0m\u001B[0mexists\u001B[0m\u001B[1;33m:\u001B[0m\u001B[1;33m\u001B[0m\u001B[1;33m\u001B[0m\u001B[0m\n",
      "\u001B[1;31mKeyboardInterrupt\u001B[0m: "
     ]
    }
   ],
   "source": [
    "a = 0\n",
    "while True:\n",
    "    try:\n",
    "        d = ui2.connect_usb()\n",
    "        # 关闭APP\n",
    "        d.app_stop(\"com.cielo.app.cielohome\")\n",
    "        # 启动App\n",
    "        d.app_start(\"com.cielo.app.cielohome\")\n",
    "        for brand in brand_list:\n",
    "            if brand in success_brand:\n",
    "                continue\n",
    "            print(brand)\n",
    "            # 点击设置\n",
    "            while not d(resourceId=\"com.cielo.app.cielohome:id/imgSetting\").exists:\n",
    "                time.sleep(1)\n",
    "            d(resourceId=\"com.cielo.app.cielohome:id/imgSetting\").click()\n",
    "            while not d(text=\"Change Appliance\").exists:\n",
    "                time.sleep(1)\n",
    "            d(text=\"Change Appliance\").click()\n",
    "            while not d(text=\"Manual Configuration\").exists:\n",
    "                time.sleep(1)\n",
    "            d(text=\"Manual Configuration\").click()\n",
    "            while not d(resourceId=\"com.cielo.app.cielohome:id/imageView\").exists:\n",
    "                time.sleep(1)\n",
    "            d(resourceId=\"com.cielo.app.cielohome:id/imageView\").click()\n",
    "            time.sleep(1)\n",
    "            # 选择品牌\n",
    "            d(resourceId=\"com.cielo.app.cielohome:id/edtSearch\").send_keys(brand)\n",
    "            time.sleep(1)\n",
    "            d(resourceId=\"com.cielo.app.cielohome:id/tvItemTitle\", text=brand).click()\n",
    "            time.sleep(1)\n",
    "            # 获取空调前几个型号\n",
    "            d(resourceId=\"com.cielo.app.cielohome:id/spnModelNumber\").click()\n",
    "            time.sleep(1)\n",
    "            air_model_list = []\n",
    "            for elem in d.xpath('//android.widget.TextView').all():\n",
    "                if elem.info['packageName'] == 'com.cielo.app.cielohome' and elem.text != \"Remote Control Model Number\":\n",
    "                    air_model_list.append(elem.text)\n",
    "            time.sleep(1)\n",
    "            d(resourceId=\"android:id/button1\").click()\n",
    "            time.sleep(1)\n",
    "\n",
    "            for air_model in air_model_list:\n",
    "                if brand == \"Samsung\" and air_model == \"Model 1\":\n",
    "                    continue\n",
    "                brand_path = f\"./cielo/{brand.replace(' ','_')}/\"\n",
    "                if not os.path.exists(brand_path):\n",
    "                    os.mkdir(brand_path)\n",
    "                v_air_model = air_model.replace(\"/\",\"_\").replace(\"|\",\"\").replace(\" \",\"\").replace(\"(\", \"\").replace(\")\", \"\")\n",
    "                csv_path = brand_path+v_air_model+\".csv\"\n",
    "                if os.path.exists(csv_path):\n",
    "                    print(air_model, ': 该模式已经抓完')\n",
    "                    continue\n",
    "                print(air_model, ': 开始抓取')\n",
    "                if not d(resourceId=\"com.cielo.app.cielohome:id/txtTitle\").exists:\n",
    "                    # 在主页面,要先进入到\n",
    "                    d(resourceId=\"com.cielo.app.cielohome:id/imgSetting\").click()\n",
    "                    while not d(text=\"Change Appliance\").exists:\n",
    "                        time.sleep(1)\n",
    "                    d(text=\"Change Appliance\").click()\n",
    "                    while not d(text=\"Manual Configuration\").exists:\n",
    "                        time.sleep(1)\n",
    "                    d(text=\"Manual Configuration\").click()\n",
    "                    while not d(resourceId=\"com.cielo.app.cielohome:id/imageView\").exists:\n",
    "                        time.sleep(1)\n",
    "                    d(resourceId=\"com.cielo.app.cielohome:id/imageView\").click()\n",
    "                    time.sleep(1)\n",
    "                    # 选择品牌\n",
    "                    d(resourceId=\"com.cielo.app.cielohome:id/edtSearch\").send_keys(brand)\n",
    "                    time.sleep(1)\n",
    "                    d(resourceId=\"com.cielo.app.cielohome:id/tvItemTitle\", text=brand).click()\n",
    "                d(resourceId=\"com.cielo.app.cielohome:id/spnModelNumber\").click()\n",
    "                time.sleep(1)\n",
    "                d(resourceId=\"android:id/search_src_text\").send_keys(air_model)\n",
    "                time.sleep(1)\n",
    "                d(resourceId=\"com.cielo.app.cielohome:id/listItems\").click()\n",
    "                time.sleep(1)\n",
    "                # 确定品牌型号\n",
    "                d.click(0.504, 0.528)\n",
    "                time.sleep(2)\n",
    "                if not d(resourceId=\"android:id/button1\").exists:\n",
    "                    d.click(0.067, 0.07)\n",
    "                    time.sleep(1)\n",
    "                    d.click(0.067, 0.07)\n",
    "                else:\n",
    "                    time.sleep(1)\n",
    "        #             d(resourceId=\"android:id/button1\", text=\"YES\").click()\n",
    "                    d(resourceId=\"android:id/button1\").click()\n",
    "\n",
    "                while not d(resourceId=\"com.cielo.app.cielohome:id/imgSetting\").exists:\n",
    "                    time.sleep(1)\n",
    "\n",
    "                ## 开始获取红码\n",
    "                rel_data = []\n",
    "                d(resourceId=\"com.cielo.app.cielohome:id/rltDeviceStateBg\").click()\n",
    "                time.sleep(2)\n",
    "                # 开机\n",
    "                if d(resourceId=\"com.cielo.app.cielohome:id/fabPowerOff\").exists():\n",
    "                    d(resourceId=\"com.cielo.app.cielohome:id/fabPowerOff\").click()\n",
    "                    time.sleep(3)\n",
    "\n",
    "                if d(resourceId=\"com.cielo.app.cielohome:id/btnDone\", text=\"DONE\").exists:\n",
    "                    d(resourceId=\"com.cielo.app.cielohome:id/btnDone\", text=\"DONE\").click()\n",
    "                    time.sleep(3)\n",
    "\n",
    "                if d(resourceId=\"com.cielo.app.cielohome:id/tvModeName\", text='Cool').exists:\n",
    "                    d(resourceId=\"com.cielo.app.cielohome:id/tvModeName\", text='Cool').click()\n",
    "                    time.sleep(2)\n",
    "                \n",
    "                if d(resourceId=\"com.cielo.app.cielohome:id/downTempText\", text='-').exists:\n",
    "                    continue\n",
    "                # 最低温度\n",
    "                d.click(0.24, 0.52)\n",
    "                time.sleep(0.5)\n",
    "                min_temp = getinfo()\n",
    "                if min_temp >= 40:\n",
    "                    print(brand, air_model, \"华氏度, 跳过\")\n",
    "                    d.click(0.067, 0.07)\n",
    "                    time.sleep(1)\n",
    "                    continue\n",
    "\n",
    "                # 获取关机状态\n",
    "                if os.path.exists(\"C:/Users/dell/Desktop/IRReader/IRReader2015/demo20190619-1/IRDemo/bin/Debug/err_code.txt\"):\n",
    "                    os.remove(\"C:/Users/dell/Desktop/IRReader/IRReader2015/demo20190619-1/IRDemo/bin/Debug/err_code.txt\")\n",
    "                time.sleep(3)\n",
    "                d(resourceId=\"com.cielo.app.cielohome:id/rltPower\").click()\n",
    "                time.sleep(3)\n",
    "                redcode=str(get_redcode())\n",
    "                rel_data.append(['close','cool','low','auto',27,redcode])\n",
    "                # 开机\n",
    "                time.sleep(3)\n",
    "                try:\n",
    "                    d(resourceId=\"com.cielo.app.cielohome:id/fabPowerOff\").click()\n",
    "                except Exception:\n",
    "                    d.click(0.5, 0.557)\n",
    "                time.sleep(3)\n",
    "                # 获取有多少风向\n",
    "                direct_list = []\n",
    "                if d(resourceId=\"com.cielo.app.cielohome:id/tvPositionName\").exists:\n",
    "                    direct = d(resourceId=\"com.cielo.app.cielohome:id/tvPositionName\").get_text()\n",
    "                    while direct not in direct_list:\n",
    "                        direct_list.append(direct)\n",
    "                        d(resourceId=\"com.cielo.app.cielohome:id/tvPositionName\").click()\n",
    "                        time.sleep(0.5)\n",
    "                        if d(resourceId=\"com.cielo.app.cielohome:id/content_card_list_item_title_tv\", text=\"Auto/Stop\").exists:\n",
    "                            d.click(0.514, 0.493)\n",
    "                            break\n",
    "                        direct = d(resourceId=\"com.cielo.app.cielohome:id/tvPositionName\").get_text()\n",
    "                direct_dic = {}\n",
    "                if len(direct_list) > 1:\n",
    "                    if 'Auto' in direct_list:\n",
    "                        direct_dic['Auto'] = 'auto'\n",
    "                    if 'Pos1' in direct_list:\n",
    "                        direct_dic['Pos1'] = 'fix'\n",
    "                elif len(direct_list) == 1:\n",
    "                    direct_dic[direct_list[0]] = 'auto'\n",
    "                if len(direct_dic) == 0:\n",
    "                    direct_dic['none'] = 1\n",
    "\n",
    "                # 获取有多少风速\n",
    "                speed_dic = {}\n",
    "                if d(resourceId=\"com.cielo.app.cielohome:id/tvFanName\").exists:\n",
    "                    d(resourceId=\"com.cielo.app.cielohome:id/tvFanName\").click()\n",
    "                    time.sleep(1)\n",
    "                    if d(resourceId=\"com.cielo.app.cielohome:id/content_card_list_item_title_tv\", text='High').exists:\n",
    "                        speed_dic['High'] = 'high'\n",
    "                    if d(resourceId=\"com.cielo.app.cielohome:id/content_card_list_item_title_tv\", text='Low').exists:\n",
    "                        speed_dic['Low'] = 'low'\n",
    "                    if d(resourceId=\"com.cielo.app.cielohome:id/content_card_list_item_title_tv\", text='Medium').exists:\n",
    "                        speed_dic['Medium'] = 'middle'\n",
    "                    if d(resourceId=\"com.cielo.app.cielohome:id/content_card_list_item_title_tv\", text='Auto').exists:\n",
    "                        speed_dic['Auto'] = 'auto'\n",
    "                    d.click(0.467, 0.488)\n",
    "                if len(speed_dic) == 1:\n",
    "                    for i in speed_dic:\n",
    "                        speed_dic[i] = 'auto'\n",
    "                if len(speed_dic) == 0:\n",
    "                    speed_dic['none'] = 1\n",
    "\n",
    "                mode_dic = {}\n",
    "                if d(resourceId=\"com.cielo.app.cielohome:id/tvModeName\", text='Cool').exists:\n",
    "                    mode_dic['Cool'] = 'cool'\n",
    "                if d(resourceId=\"com.cielo.app.cielohome:id/tvModeName\", text='Heat').exists:\n",
    "                    mode_dic['Heat'] = 'heat'\n",
    "\n",
    "                for mode in mode_dic:\n",
    "                    d(resourceId=\"com.cielo.app.cielohome:id/tvModeName\", text=mode).click()\n",
    "                    mode_v = mode_dic[mode]\n",
    "                    for speed in speed_dic:\n",
    "                        if speed == 'none':\n",
    "                            speed_v = 'auto'\n",
    "                            pass\n",
    "                        else:\n",
    "                            speed_v = speed_dic[speed]\n",
    "                            d(resourceId=\"com.cielo.app.cielohome:id/tvFanName\").click()\n",
    "                            time.sleep(1)\n",
    "                            d(resourceId=\"com.cielo.app.cielohome:id/content_card_list_item_title_tv\", text=speed).click()\n",
    "                            time.sleep(0.5)\n",
    "                        for direct in direct_dic:\n",
    "                            if direct == 'none':\n",
    "                                direct_v = 'auto'\n",
    "                                pass\n",
    "                            else:\n",
    "                                direct_v = direct_dic[direct]\n",
    "                                while direct != d(resourceId=\"com.cielo.app.cielohome:id/tvPositionName\").get_text():\n",
    "                                    d(resourceId=\"com.cielo.app.cielohome:id/tvPositionName\").click()\n",
    "                                    time.sleep(0.5)\n",
    "                            now_temp = min_temp\n",
    "                            for i in position:\n",
    "                                if now_temp == 32:\n",
    "                                    break\n",
    "                                if os.path.exists(\"C:/Users/dell/Desktop/IRReader/IRReader2015/demo20190619-1/IRDemo/bin/Debug/err_code.txt\"):\n",
    "                                    try:\n",
    "                                        os.remove(\"C:/Users/dell/Desktop/IRReader/IRReader2015/demo20190619-1/IRDemo/bin/Debug/err_code.txt\")\n",
    "                                    except PermissionError as e:\n",
    "                                        pass\n",
    "                                l = 0\n",
    "                                # 判断对应温度位置是否点击超过10次\n",
    "                                s_sta = False\n",
    "                                while l < 100:\n",
    "                                    d.click(i[0], i[1])\n",
    "                                    time.sleep(1)\n",
    "                                    # 统计该对应温度位置点击次数\n",
    "                                    times = 0\n",
    "                                    while not os.path.exists(\"C:/Users/dell/Desktop/IRReader/IRReader2015/demo20190619-1/IRDemo/bin/Debug/err_code.txt\") and times <= 10:\n",
    "                                        while d(resourceId=\"android:id/button2\", text='OK').exists:\n",
    "                                            d(resourceId=\"android:id/button2\", text='OK').click()\n",
    "                                            time.sleep(1)\n",
    "                                        d.click(i[0], i[1])\n",
    "                                        time.sleep(1)\n",
    "                                        times+=1\n",
    "                                    if times == 10:\n",
    "                                        # 如果等于10次,则跳过这个位置,这个位置可能不能发码\n",
    "                                        s_sta = True\n",
    "                                        break\n",
    "                                    redcode=str(get_redcode())\n",
    "                                    time.sleep(0.5)\n",
    "                                    try:\n",
    "                                        os.remove(\"C:/Users/dell/Desktop/IRReader/IRReader2015/demo20190619-1/IRDemo/bin/Debug/err_code.txt\")\n",
    "                                    except PermissionError as e:\n",
    "                                        pass\n",
    "                                    l = len(redcode)\n",
    "                                if s_sta:\n",
    "                                    continue\n",
    "                                if now_temp == getinfo():\n",
    "                                    rel_data.append(['open',mode_v,speed_v,direct_v,now_temp,redcode])\n",
    "                                    now_temp += 1\n",
    "                                else:\n",
    "                                    if len(redcode) > len(rel_data[-1][-1]):\n",
    "                                        rel_data[-1][-1] = redcode\n",
    "                df = pd.DataFrame(rel_data, columns=['state','mode','speed','direct','temperature','redcode'])\n",
    "                df.to_csv(csv_path, index=False)\n",
    "                print(brand, air_model, \"success\")\n",
    "                # 退回设置界面\n",
    "                d.click(0.067, 0.07)\n",
    "                time.sleep(1)\n",
    "            success_brand.append(brand)\n",
    "    except Exception as e:\n",
    "        print(e)\n",
    "        a += 1\n",
    "        if a == 10:\n",
    "            success_brand.append(brand)\n",
    "            a = 0\n",
    "        continue"
   ]
  },
  {
   "cell_type": "code",
   "execution_count": 25,
   "metadata": {},
   "outputs": [
    {
     "data": {
      "text/plain": [
       "True"
      ]
     },
     "execution_count": 25,
     "metadata": {},
     "output_type": "execute_result"
    }
   ],
   "source": [
    "d(resourceId='com.cielo.app.cielohome:id/tvItemTitle', text='haam electric ').exists"
   ]
  },
  {
   "cell_type": "code",
   "execution_count": 49,
   "metadata": {},
   "outputs": [],
   "source": [
    "# success_brand.remove(\"Besat\")"
   ]
  },
  {
   "cell_type": "code",
   "execution_count": 321,
   "metadata": {},
   "outputs": [
    {
     "data": {
      "text/plain": [
       "['ACPRO', 'ADS']"
      ]
     },
     "execution_count": 321,
     "metadata": {},
     "output_type": "execute_result"
    }
   ],
   "source": [
    "success_brand"
   ]
  },
  {
   "cell_type": "code",
   "execution_count": 57,
   "metadata": {},
   "outputs": [
    {
     "data": {
      "text/plain": [
       "True"
      ]
     },
     "execution_count": 57,
     "metadata": {},
     "output_type": "execute_result"
    }
   ],
   "source": [
    "d(resourceId=\"com.cielo.app.cielohome:id/btnDone\", text=\"DONE\").exists"
   ]
  },
  {
   "cell_type": "code",
   "execution_count": 55,
   "metadata": {},
   "outputs": [
    {
     "name": "stdout",
     "output_type": "stream",
     "text": [
      "[38, 0, 68, 0, 0, 1, 41, 147, 21, 54, 20, 19, 21, 19, 21, 54, 20, 19, 21, 19, 21, 18, 20, 20, 20, 20, 20, 19, 21, 19, 20, 19, 21, 19, 21, 18, 21, 19, 21, 19, 21, 18, 21, 19, 20, 19, 21, 19, 21, 18, 21, 54, 21, 54, 21, 19, 21, 18, 21, 19, 21, 19, 20, 54, 21, 54, 21, 19, 21, 0, 12, 203]\n"
     ]
    }
   ],
   "source": [
    "print(get_redcode())"
   ]
  },
  {
   "cell_type": "code",
   "execution_count": 327,
   "metadata": {},
   "outputs": [
    {
     "data": {
      "text/plain": [
       "True"
      ]
     },
     "execution_count": 327,
     "metadata": {},
     "output_type": "execute_result"
    }
   ],
   "source": [
    "d(resourceId=\"com.cielo.app.cielohome:id/content_card_list_item_title_tv\", text=\"Auto/Stop\").exists\n",
    "d.click(0.514, 0.493)"
   ]
  },
  {
   "cell_type": "code",
   "execution_count": 44,
   "metadata": {},
   "outputs": [],
   "source": [
    "d(resourceId=\"com.cielo.app.cielohome:id/fabPowerOff\").click()"
   ]
  },
  {
   "cell_type": "code",
   "execution_count": null,
   "metadata": {},
   "outputs": [],
   "source": []
  },
  {
   "cell_type": "code",
   "execution_count": 46,
   "metadata": {},
   "outputs": [],
   "source": [
    "d.click(0.5, 0.557)"
   ]
  },
  {
   "cell_type": "code",
   "execution_count": null,
   "metadata": {},
   "outputs": [],
   "source": [
    "['reviewid', 'name', 'commentreachtime', 'comment', 'commentstate', 'username', 'commentsource', 'amazoncountry', 'othercustomercomment']"
   ]
  },
  {
   "cell_type": "code",
   "execution_count": null,
   "metadata": {},
   "outputs": [],
   "source": []
  },
  {
   "cell_type": "code",
   "execution_count": 49,
   "metadata": {},
   "outputs": [],
   "source": [
    "success_brand.append(\"Amana\")"
   ]
  },
  {
   "cell_type": "code",
   "execution_count": 51,
   "metadata": {},
   "outputs": [
    {
     "data": {
      "text/plain": [
       "True"
      ]
     },
     "execution_count": 51,
     "metadata": {},
     "output_type": "execute_result"
    }
   ],
   "source": [
    "d(resourceId=\"com.cielo.app.cielohome:id/downTempText\", text='-').exists"
   ]
  },
  {
   "cell_type": "code",
   "execution_count": 1183,
   "metadata": {
    "scrolled": false
   },
   "outputs": [
    {
     "name": "stdout",
     "output_type": "stream",
     "text": [
      "\"[38, 0, 96, 1, 0, 1, 45, 149, 23, 54, 24, 53, 24, 17, 24, 17, 23, 17, 23, 17, 24, 17, 23, 53, 23, 17, 24, 54, 23, 53, 23, 18, 22, 18, 23, 17, 23, 18, 22, 18, 23, 53, 23, 18, 23, 17, 23, 17, 23, 18, 23, 17, 23, 17, 24, 54, 23, 17, 23, 53, 23, 18, 23, 17, 23, 17, 24, 53, 23, 17, 23, 54, 23, 18, 23, 17, 23, 18, 22, 18, 23, 17, 23, 18, 22, 18, 23, 17, 23, 18, 22, 18, 23, 17, 23, 17, 23, 18, 23, 17, 23, 17, 23, 18, 23, 0, 1, 4, 23, 18, 22, 18, 23, 17, 23, 18, 22, 18, 23, 17, 23, 18, 23, 53, 24, 17, 23, 54, 24, 53, 25, 52, 24, 53, 24, 17, 23, 18, 22, 18, 23, 17, 23, 18, 22, 18, 23, 17, 23, 17, 23, 18, 23, 54, 23, 18, 22, 18, 23, 17, 23, 18, 22, 18, 23, 17, 24, 17, 22, 18, 24, 16, 24, 17, 22, 18, 24, 16, 24, 17, 22, 18, 24, 16, 23, 53, 23, 18, 24, 16, 24, 17, 22, 18, 24, 16, 24, 17, 22, 18, 24, 16, 24, 17, 22, 18, 24, 16, 24, 17, 22, 18, 24, 16, 24, 17, 22, 18, 24, 16, 23, 54, 23, 18, 24, 52, 24, 53, 24, 53, 24, 53, 23, 18, 24, 52, 24, 0, 1, 4, 24, 17, 23, 17, 24, 17, 23, 17, 23, 17, 24, 17, 23, 17, 24, 16, 23, 18, 23, 53, 24, 16, 24, 17, 24, 16, 23, 17, 24, 17, 23, 17, 24, 16, 24, 17, 23, 17, 24, 16, 24, 17, 23, 17, 24, 16, 24, 17, 23, 17, 24, 16, 24, 17, 23, 17, 24, 16, 24, 17, 23, 17, 24, 16, 24, 17, 23, 17, 24, 16, 24, 17, 22, 18, 24, 16, 24, 17, 22, 18, 24, 16, 24, 17, 22, 18, 24, 16, 24, 17, 22, 18, 24, 16, 24, 17, 22, 18, 24, 52, 24, 17, 22, 18, 24, 16, 24, 17, 22, 18, 24, 16, 24, 0, 12, 202]\"\n"
     ]
    }
   ],
   "source": [
    "print('\"' + str(get_redcode()) + '\"')\n",
    "if os.path.exists(\"C:/Users/dell/Desktop/IRReader/IRReader2015/demo20190619-1/IRDemo/bin/Debug/err_code.txt\"):\n",
    "    os.remove(\"C:/Users/dell/Desktop/IRReader/IRReader2015/demo20190619-1/IRDemo/bin/Debug/err_code.txt\")"
   ]
  },
  {
   "cell_type": "code",
   "execution_count": 920,
   "metadata": {},
   "outputs": [
    {
     "data": {
      "text/plain": [
       "63"
      ]
     },
     "execution_count": 920,
     "metadata": {},
     "output_type": "execute_result"
    }
   ],
   "source": [
    "round(17 * 1.8 + 32)"
   ]
  },
  {
   "cell_type": "code",
   "execution_count": 333,
   "metadata": {},
   "outputs": [
    {
     "data": {
      "text/plain": [
       "14"
      ]
     },
     "execution_count": 333,
     "metadata": {},
     "output_type": "execute_result"
    }
   ],
   "source": [
    "len(df)"
   ]
  },
  {
   "cell_type": "code",
   "execution_count": 444,
   "metadata": {},
   "outputs": [
    {
     "data": {
      "text/plain": [
       "56"
      ]
     },
     "execution_count": 444,
     "metadata": {},
     "output_type": "execute_result"
    }
   ],
   "source": [
    "int('38',16)"
   ]
  },
  {
   "cell_type": "code",
   "execution_count": 445,
   "metadata": {},
   "outputs": [
    {
     "data": {
      "text/plain": [
       "'0b111000'"
      ]
     },
     "execution_count": 445,
     "metadata": {},
     "output_type": "execute_result"
    }
   ],
   "source": [
    "bin(56)"
   ]
  },
  {
   "cell_type": "code",
   "execution_count": null,
   "metadata": {},
   "outputs": [],
   "source": []
  }
 ],
 "metadata": {
  "kernelspec": {
   "display_name": "Python 3",
   "language": "python",
   "name": "python3"
  },
  "language_info": {
   "codemirror_mode": {
    "name": "ipython",
    "version": 3
   },
   "file_extension": ".py",
   "mimetype": "text/x-python",
   "name": "python",
   "nbconvert_exporter": "python",
   "pygments_lexer": "ipython3",
   "version": "3.8.3"
  }
 },
 "nbformat": 4,
 "nbformat_minor": 4
}